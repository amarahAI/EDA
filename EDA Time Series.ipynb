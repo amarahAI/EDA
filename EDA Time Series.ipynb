{
 "cells": [
  {
   "cell_type": "code",
   "execution_count": null,
   "id": "7cbca9a0",
   "metadata": {},
   "outputs": [],
   "source": [
    "# EDA With Time Series Data"
   ]
  },
  {
   "cell_type": "markdown",
   "id": "53a9e589",
   "metadata": {},
   "source": [
    "1. pandas data reader\n",
    "2. date time index\n",
    "3. Time resampling\n",
    "4. time shifts\n",
    "5. mean rolling & explanding\n",
    "6 time series visualization\n",
    "7. project"
   ]
  },
  {
   "cell_type": "code",
   "execution_count": null,
   "id": "4b69b5a2",
   "metadata": {},
   "outputs": [],
   "source": [
    "# library - pandas data reader - for financial data\n"
   ]
  },
  {
   "cell_type": "code",
   "execution_count": null,
   "id": "c3e98494",
   "metadata": {},
   "outputs": [],
   "source": [
    "# step 1 install pandas data reader"
   ]
  },
  {
   "cell_type": "code",
   "execution_count": 1,
   "id": "836fb53e",
   "metadata": {},
   "outputs": [
    {
     "name": "stdout",
     "output_type": "stream",
     "text": [
      "Collecting pandas-datareader\n",
      "  Downloading pandas_datareader-0.10.0-py3-none-any.whl (109 kB)\n",
      "     -------------------------------------- 109.5/109.5 KB 1.6 MB/s eta 0:00:00\n",
      "Requirement already satisfied: pandas>=0.23 in c:\\programdata\\anaconda3\\lib\\site-packages (from pandas-datareader) (1.3.4)\n",
      "Requirement already satisfied: lxml in c:\\programdata\\anaconda3\\lib\\site-packages (from pandas-datareader) (4.6.3)\n",
      "Requirement already satisfied: requests>=2.19.0 in c:\\programdata\\anaconda3\\lib\\site-packages (from pandas-datareader) (2.27.1)\n",
      "Requirement already satisfied: numpy>=1.17.3 in c:\\programdata\\anaconda3\\lib\\site-packages (from pandas>=0.23->pandas-datareader) (1.22.2)\n",
      "Requirement already satisfied: pytz>=2017.3 in c:\\programdata\\anaconda3\\lib\\site-packages (from pandas>=0.23->pandas-datareader) (2021.3)\n",
      "Requirement already satisfied: python-dateutil>=2.7.3 in c:\\programdata\\anaconda3\\lib\\site-packages (from pandas>=0.23->pandas-datareader) (2.8.2)\n",
      "Requirement already satisfied: certifi>=2017.4.17 in c:\\programdata\\anaconda3\\lib\\site-packages (from requests>=2.19.0->pandas-datareader) (2021.10.8)\n",
      "Requirement already satisfied: idna<4,>=2.5 in c:\\programdata\\anaconda3\\lib\\site-packages (from requests>=2.19.0->pandas-datareader) (2.10)\n",
      "Requirement already satisfied: charset-normalizer~=2.0.0 in c:\\programdata\\anaconda3\\lib\\site-packages (from requests>=2.19.0->pandas-datareader) (2.0.4)\n",
      "Requirement already satisfied: urllib3<1.27,>=1.21.1 in c:\\programdata\\anaconda3\\lib\\site-packages (from requests>=2.19.0->pandas-datareader) (1.25.8)\n",
      "Requirement already satisfied: six>=1.5 in c:\\programdata\\anaconda3\\lib\\site-packages (from python-dateutil>=2.7.3->pandas>=0.23->pandas-datareader) (1.16.0)\n",
      "Installing collected packages: pandas-datareader\n"
     ]
    },
    {
     "name": "stderr",
     "output_type": "stream",
     "text": [
      "WARNING: Ignoring invalid distribution -tatsmodels (c:\\programdata\\anaconda3\\lib\\site-packages)\n",
      "WARNING: Ignoring invalid distribution -tatsmodels (c:\\programdata\\anaconda3\\lib\\site-packages)\n",
      "WARNING: Ignoring invalid distribution -tatsmodels (c:\\programdata\\anaconda3\\lib\\site-packages)\n",
      "WARNING: Ignoring invalid distribution -tatsmodels (c:\\programdata\\anaconda3\\lib\\site-packages)\n",
      "WARNING: Ignoring invalid distribution -tatsmodels (c:\\programdata\\anaconda3\\lib\\site-packages)\n",
      "WARNING: Ignoring invalid distribution -tatsmodels (c:\\programdata\\anaconda3\\lib\\site-packages)\n"
     ]
    },
    {
     "name": "stdout",
     "output_type": "stream",
     "text": [
      "Successfully installed pandas-datareader-0.10.0\n"
     ]
    }
   ],
   "source": [
    "#!pip install pandas-datareader"
   ]
  },
  {
   "cell_type": "code",
   "execution_count": 1,
   "id": "38b4c845",
   "metadata": {},
   "outputs": [],
   "source": [
    "import pandas_datareader as pdr\n",
    "import pandas as pd\n",
    "from datetime import datetime #for timeseries you have to have"
   ]
  },
  {
   "cell_type": "code",
   "execution_count": 2,
   "id": "ed18d9fe",
   "metadata": {},
   "outputs": [
    {
     "ename": "SyntaxError",
     "evalue": "invalid syntax (Temp/ipykernel_9956/704698341.py, line 1)",
     "output_type": "error",
     "traceback": [
      "\u001b[1;36m  File \u001b[1;32m\"C:\\Users\\ADMINI~1\\AppData\\Local\\Temp/ipykernel_9956/704698341.py\"\u001b[1;36m, line \u001b[1;32m1\u001b[0m\n\u001b[1;33m    pdr.\u001b[0m\n\u001b[1;37m        ^\u001b[0m\n\u001b[1;31mSyntaxError\u001b[0m\u001b[1;31m:\u001b[0m invalid syntax\n"
     ]
    }
   ],
   "source": [
    "pdr. #tab"
   ]
  },
  {
   "cell_type": "code",
   "execution_count": 3,
   "id": "fb7f9952",
   "metadata": {},
   "outputs": [
    {
     "data": {
      "text/html": [
       "<div>\n",
       "<style scoped>\n",
       "    .dataframe tbody tr th:only-of-type {\n",
       "        vertical-align: middle;\n",
       "    }\n",
       "\n",
       "    .dataframe tbody tr th {\n",
       "        vertical-align: top;\n",
       "    }\n",
       "\n",
       "    .dataframe thead th {\n",
       "        text-align: right;\n",
       "    }\n",
       "</style>\n",
       "<table border=\"1\" class=\"dataframe\">\n",
       "  <thead>\n",
       "    <tr style=\"text-align: right;\">\n",
       "      <th></th>\n",
       "      <th>High</th>\n",
       "      <th>Low</th>\n",
       "      <th>Open</th>\n",
       "      <th>Close</th>\n",
       "      <th>Volume</th>\n",
       "      <th>Adj Close</th>\n",
       "    </tr>\n",
       "    <tr>\n",
       "      <th>Date</th>\n",
       "      <th></th>\n",
       "      <th></th>\n",
       "      <th></th>\n",
       "      <th></th>\n",
       "      <th></th>\n",
       "      <th></th>\n",
       "    </tr>\n",
       "  </thead>\n",
       "  <tbody>\n",
       "    <tr>\n",
       "      <th>2017-04-13</th>\n",
       "      <td>61.478001</td>\n",
       "      <td>59.060001</td>\n",
       "      <td>59.340000</td>\n",
       "      <td>60.799999</td>\n",
       "      <td>46423000.0</td>\n",
       "      <td>60.799999</td>\n",
       "    </tr>\n",
       "    <tr>\n",
       "      <th>2017-04-17</th>\n",
       "      <td>60.799999</td>\n",
       "      <td>59.736000</td>\n",
       "      <td>60.540001</td>\n",
       "      <td>60.287998</td>\n",
       "      <td>20693500.0</td>\n",
       "      <td>60.287998</td>\n",
       "    </tr>\n",
       "    <tr>\n",
       "      <th>2017-04-18</th>\n",
       "      <td>60.167999</td>\n",
       "      <td>59.580002</td>\n",
       "      <td>59.939999</td>\n",
       "      <td>60.049999</td>\n",
       "      <td>15178500.0</td>\n",
       "      <td>60.049999</td>\n",
       "    </tr>\n",
       "    <tr>\n",
       "      <th>2017-04-19</th>\n",
       "      <td>61.324001</td>\n",
       "      <td>60.422001</td>\n",
       "      <td>60.492001</td>\n",
       "      <td>61.104000</td>\n",
       "      <td>19490000.0</td>\n",
       "      <td>61.104000</td>\n",
       "    </tr>\n",
       "    <tr>\n",
       "      <th>2017-04-20</th>\n",
       "      <td>61.830002</td>\n",
       "      <td>60.046001</td>\n",
       "      <td>61.301998</td>\n",
       "      <td>60.501999</td>\n",
       "      <td>30747000.0</td>\n",
       "      <td>60.501999</td>\n",
       "    </tr>\n",
       "    <tr>\n",
       "      <th>...</th>\n",
       "      <td>...</td>\n",
       "      <td>...</td>\n",
       "      <td>...</td>\n",
       "      <td>...</td>\n",
       "      <td>...</td>\n",
       "      <td>...</td>\n",
       "    </tr>\n",
       "    <tr>\n",
       "      <th>2022-04-06</th>\n",
       "      <td>1079.000000</td>\n",
       "      <td>1027.699951</td>\n",
       "      <td>1073.469971</td>\n",
       "      <td>1045.760010</td>\n",
       "      <td>29782800.0</td>\n",
       "      <td>1045.760010</td>\n",
       "    </tr>\n",
       "    <tr>\n",
       "      <th>2022-04-07</th>\n",
       "      <td>1076.589966</td>\n",
       "      <td>1021.539978</td>\n",
       "      <td>1052.390015</td>\n",
       "      <td>1057.260010</td>\n",
       "      <td>26482400.0</td>\n",
       "      <td>1057.260010</td>\n",
       "    </tr>\n",
       "    <tr>\n",
       "      <th>2022-04-08</th>\n",
       "      <td>1048.439941</td>\n",
       "      <td>1022.440002</td>\n",
       "      <td>1043.209961</td>\n",
       "      <td>1025.489990</td>\n",
       "      <td>18293300.0</td>\n",
       "      <td>1025.489990</td>\n",
       "    </tr>\n",
       "    <tr>\n",
       "      <th>2022-04-11</th>\n",
       "      <td>1008.469971</td>\n",
       "      <td>974.640015</td>\n",
       "      <td>980.400024</td>\n",
       "      <td>975.929993</td>\n",
       "      <td>19785700.0</td>\n",
       "      <td>975.929993</td>\n",
       "    </tr>\n",
       "    <tr>\n",
       "      <th>2022-04-12</th>\n",
       "      <td>1021.190002</td>\n",
       "      <td>976.599976</td>\n",
       "      <td>997.640015</td>\n",
       "      <td>986.950012</td>\n",
       "      <td>21948800.0</td>\n",
       "      <td>986.950012</td>\n",
       "    </tr>\n",
       "  </tbody>\n",
       "</table>\n",
       "<p>1259 rows × 6 columns</p>\n",
       "</div>"
      ],
      "text/plain": [
       "                   High          Low         Open        Close      Volume  \\\n",
       "Date                                                                         \n",
       "2017-04-13    61.478001    59.060001    59.340000    60.799999  46423000.0   \n",
       "2017-04-17    60.799999    59.736000    60.540001    60.287998  20693500.0   \n",
       "2017-04-18    60.167999    59.580002    59.939999    60.049999  15178500.0   \n",
       "2017-04-19    61.324001    60.422001    60.492001    61.104000  19490000.0   \n",
       "2017-04-20    61.830002    60.046001    61.301998    60.501999  30747000.0   \n",
       "...                 ...          ...          ...          ...         ...   \n",
       "2022-04-06  1079.000000  1027.699951  1073.469971  1045.760010  29782800.0   \n",
       "2022-04-07  1076.589966  1021.539978  1052.390015  1057.260010  26482400.0   \n",
       "2022-04-08  1048.439941  1022.440002  1043.209961  1025.489990  18293300.0   \n",
       "2022-04-11  1008.469971   974.640015   980.400024   975.929993  19785700.0   \n",
       "2022-04-12  1021.190002   976.599976   997.640015   986.950012  21948800.0   \n",
       "\n",
       "              Adj Close  \n",
       "Date                     \n",
       "2017-04-13    60.799999  \n",
       "2017-04-17    60.287998  \n",
       "2017-04-18    60.049999  \n",
       "2017-04-19    61.104000  \n",
       "2017-04-20    60.501999  \n",
       "...                 ...  \n",
       "2022-04-06  1045.760010  \n",
       "2022-04-07  1057.260010  \n",
       "2022-04-08  1025.489990  \n",
       "2022-04-11   975.929993  \n",
       "2022-04-12   986.950012  \n",
       "\n",
       "[1259 rows x 6 columns]"
      ]
     },
     "execution_count": 3,
     "metadata": {},
     "output_type": "execute_result"
    }
   ],
   "source": [
    "pdr.get_data_yahoo('TSLA') # reading a specific dataset - tesla "
   ]
  },
  {
   "cell_type": "code",
   "execution_count": 4,
   "id": "de9df025",
   "metadata": {},
   "outputs": [],
   "source": [
    "df_tsla=pdr.get_data_yahoo('TSLA') #saving it"
   ]
  },
  {
   "cell_type": "code",
   "execution_count": 6,
   "id": "55504d8c",
   "metadata": {},
   "outputs": [
    {
     "data": {
      "text/plain": [
       "pandas.core.frame.DataFrame"
      ]
     },
     "execution_count": 6,
     "metadata": {},
     "output_type": "execute_result"
    }
   ],
   "source": [
    "type(df_tsla)"
   ]
  },
  {
   "cell_type": "code",
   "execution_count": 7,
   "id": "829ef089",
   "metadata": {},
   "outputs": [
    {
     "data": {
      "text/html": [
       "<div>\n",
       "<style scoped>\n",
       "    .dataframe tbody tr th:only-of-type {\n",
       "        vertical-align: middle;\n",
       "    }\n",
       "\n",
       "    .dataframe tbody tr th {\n",
       "        vertical-align: top;\n",
       "    }\n",
       "\n",
       "    .dataframe thead th {\n",
       "        text-align: right;\n",
       "    }\n",
       "</style>\n",
       "<table border=\"1\" class=\"dataframe\">\n",
       "  <thead>\n",
       "    <tr style=\"text-align: right;\">\n",
       "      <th></th>\n",
       "      <th>High</th>\n",
       "      <th>Low</th>\n",
       "      <th>Open</th>\n",
       "      <th>Close</th>\n",
       "      <th>Volume</th>\n",
       "      <th>Adj Close</th>\n",
       "    </tr>\n",
       "    <tr>\n",
       "      <th>Date</th>\n",
       "      <th></th>\n",
       "      <th></th>\n",
       "      <th></th>\n",
       "      <th></th>\n",
       "      <th></th>\n",
       "      <th></th>\n",
       "    </tr>\n",
       "  </thead>\n",
       "  <tbody>\n",
       "    <tr>\n",
       "      <th>2017-04-13</th>\n",
       "      <td>61.478001</td>\n",
       "      <td>59.060001</td>\n",
       "      <td>59.340000</td>\n",
       "      <td>60.799999</td>\n",
       "      <td>46423000.0</td>\n",
       "      <td>60.799999</td>\n",
       "    </tr>\n",
       "    <tr>\n",
       "      <th>2017-04-17</th>\n",
       "      <td>60.799999</td>\n",
       "      <td>59.736000</td>\n",
       "      <td>60.540001</td>\n",
       "      <td>60.287998</td>\n",
       "      <td>20693500.0</td>\n",
       "      <td>60.287998</td>\n",
       "    </tr>\n",
       "    <tr>\n",
       "      <th>2017-04-18</th>\n",
       "      <td>60.167999</td>\n",
       "      <td>59.580002</td>\n",
       "      <td>59.939999</td>\n",
       "      <td>60.049999</td>\n",
       "      <td>15178500.0</td>\n",
       "      <td>60.049999</td>\n",
       "    </tr>\n",
       "    <tr>\n",
       "      <th>2017-04-19</th>\n",
       "      <td>61.324001</td>\n",
       "      <td>60.422001</td>\n",
       "      <td>60.492001</td>\n",
       "      <td>61.104000</td>\n",
       "      <td>19490000.0</td>\n",
       "      <td>61.104000</td>\n",
       "    </tr>\n",
       "    <tr>\n",
       "      <th>2017-04-20</th>\n",
       "      <td>61.830002</td>\n",
       "      <td>60.046001</td>\n",
       "      <td>61.301998</td>\n",
       "      <td>60.501999</td>\n",
       "      <td>30747000.0</td>\n",
       "      <td>60.501999</td>\n",
       "    </tr>\n",
       "  </tbody>\n",
       "</table>\n",
       "</div>"
      ],
      "text/plain": [
       "                 High        Low       Open      Close      Volume  Adj Close\n",
       "Date                                                                         \n",
       "2017-04-13  61.478001  59.060001  59.340000  60.799999  46423000.0  60.799999\n",
       "2017-04-17  60.799999  59.736000  60.540001  60.287998  20693500.0  60.287998\n",
       "2017-04-18  60.167999  59.580002  59.939999  60.049999  15178500.0  60.049999\n",
       "2017-04-19  61.324001  60.422001  60.492001  61.104000  19490000.0  61.104000\n",
       "2017-04-20  61.830002  60.046001  61.301998  60.501999  30747000.0  60.501999"
      ]
     },
     "execution_count": 7,
     "metadata": {},
     "output_type": "execute_result"
    }
   ],
   "source": [
    "df_tsla.head()"
   ]
  },
  {
   "cell_type": "code",
   "execution_count": 8,
   "id": "ad8ab4e4",
   "metadata": {},
   "outputs": [
    {
     "data": {
      "text/html": [
       "<div>\n",
       "<style scoped>\n",
       "    .dataframe tbody tr th:only-of-type {\n",
       "        vertical-align: middle;\n",
       "    }\n",
       "\n",
       "    .dataframe tbody tr th {\n",
       "        vertical-align: top;\n",
       "    }\n",
       "\n",
       "    .dataframe thead th {\n",
       "        text-align: right;\n",
       "    }\n",
       "</style>\n",
       "<table border=\"1\" class=\"dataframe\">\n",
       "  <thead>\n",
       "    <tr style=\"text-align: right;\">\n",
       "      <th></th>\n",
       "      <th>High</th>\n",
       "      <th>Low</th>\n",
       "      <th>Open</th>\n",
       "      <th>Close</th>\n",
       "      <th>Volume</th>\n",
       "      <th>Adj Close</th>\n",
       "    </tr>\n",
       "    <tr>\n",
       "      <th>Date</th>\n",
       "      <th></th>\n",
       "      <th></th>\n",
       "      <th></th>\n",
       "      <th></th>\n",
       "      <th></th>\n",
       "      <th></th>\n",
       "    </tr>\n",
       "  </thead>\n",
       "  <tbody>\n",
       "    <tr>\n",
       "      <th>2022-04-06</th>\n",
       "      <td>1079.000000</td>\n",
       "      <td>1027.699951</td>\n",
       "      <td>1073.469971</td>\n",
       "      <td>1045.760010</td>\n",
       "      <td>29782800.0</td>\n",
       "      <td>1045.760010</td>\n",
       "    </tr>\n",
       "    <tr>\n",
       "      <th>2022-04-07</th>\n",
       "      <td>1076.589966</td>\n",
       "      <td>1021.539978</td>\n",
       "      <td>1052.390015</td>\n",
       "      <td>1057.260010</td>\n",
       "      <td>26482400.0</td>\n",
       "      <td>1057.260010</td>\n",
       "    </tr>\n",
       "    <tr>\n",
       "      <th>2022-04-08</th>\n",
       "      <td>1048.439941</td>\n",
       "      <td>1022.440002</td>\n",
       "      <td>1043.209961</td>\n",
       "      <td>1025.489990</td>\n",
       "      <td>18293300.0</td>\n",
       "      <td>1025.489990</td>\n",
       "    </tr>\n",
       "    <tr>\n",
       "      <th>2022-04-11</th>\n",
       "      <td>1008.469971</td>\n",
       "      <td>974.640015</td>\n",
       "      <td>980.400024</td>\n",
       "      <td>975.929993</td>\n",
       "      <td>19785700.0</td>\n",
       "      <td>975.929993</td>\n",
       "    </tr>\n",
       "    <tr>\n",
       "      <th>2022-04-12</th>\n",
       "      <td>1021.190002</td>\n",
       "      <td>976.599976</td>\n",
       "      <td>997.640015</td>\n",
       "      <td>986.950012</td>\n",
       "      <td>21948800.0</td>\n",
       "      <td>986.950012</td>\n",
       "    </tr>\n",
       "  </tbody>\n",
       "</table>\n",
       "</div>"
      ],
      "text/plain": [
       "                   High          Low         Open        Close      Volume  \\\n",
       "Date                                                                         \n",
       "2022-04-06  1079.000000  1027.699951  1073.469971  1045.760010  29782800.0   \n",
       "2022-04-07  1076.589966  1021.539978  1052.390015  1057.260010  26482400.0   \n",
       "2022-04-08  1048.439941  1022.440002  1043.209961  1025.489990  18293300.0   \n",
       "2022-04-11  1008.469971   974.640015   980.400024   975.929993  19785700.0   \n",
       "2022-04-12  1021.190002   976.599976   997.640015   986.950012  21948800.0   \n",
       "\n",
       "              Adj Close  \n",
       "Date                     \n",
       "2022-04-06  1045.760010  \n",
       "2022-04-07  1057.260010  \n",
       "2022-04-08  1025.489990  \n",
       "2022-04-11   975.929993  \n",
       "2022-04-12   986.950012  "
      ]
     },
     "execution_count": 8,
     "metadata": {},
     "output_type": "execute_result"
    }
   ],
   "source": [
    "df_tsla.tail()"
   ]
  },
  {
   "cell_type": "code",
   "execution_count": null,
   "id": "cb209f94",
   "metadata": {},
   "outputs": [],
   "source": [
    "# volumne column - stock kitna trade hua hai"
   ]
  },
  {
   "cell_type": "code",
   "execution_count": 8,
   "id": "e9950e65",
   "metadata": {},
   "outputs": [
    {
     "data": {
      "text/plain": [
       "<AxesSubplot:xlabel='Date'>"
      ]
     },
     "execution_count": 8,
     "metadata": {},
     "output_type": "execute_result"
    },
    {
     "data": {
      "image/png": "[encoded data removed]",
      "text/plain": [
       "<Figure size 432x288 with 1 Axes>"
      ]
     },
     "metadata": {
      "needs_background": "light"
     },
     "output_type": "display_data"
    }
   ],
   "source": [
    "df_tsla.plot() #best way to plot is .plot()"
   ]
  },
  {
   "cell_type": "code",
   "execution_count": null,
   "id": "b6525901",
   "metadata": {},
   "outputs": [],
   "source": [
    "# very cubersome plot as lot of values are there. so find diff way"
   ]
  },
  {
   "cell_type": "code",
   "execution_count": 9,
   "id": "7405a623",
   "metadata": {},
   "outputs": [
    {
     "data": {
      "text/plain": [
       "<AxesSubplot:xlabel='Date'>"
      ]
     },
     "execution_count": 9,
     "metadata": {},
     "output_type": "execute_result"
    },
    {
     "data": {
      "image/png": "[encoded data removed]",
      "text/plain": [
       "<Figure size 432x288 with 1 Axes>"
      ]
     },
     "metadata": {
      "needs_background": "light"
     },
     "output_type": "display_data"
    }
   ],
   "source": [
    "df_tsla[\"High\"].plot()"
   ]
  },
  {
   "cell_type": "code",
   "execution_count": null,
   "id": "1fae36f3",
   "metadata": {},
   "outputs": [],
   "source": [
    "# use figsize to inc the figure"
   ]
  },
  {
   "cell_type": "code",
   "execution_count": 11,
   "id": "9bb03da5",
   "metadata": {},
   "outputs": [
    {
     "data": {
      "text/plain": [
       "<AxesSubplot:xlabel='Date'>"
      ]
     },
     "execution_count": 11,
     "metadata": {},
     "output_type": "execute_result"
    },
    {
     "data": {
      "image/png": "[encoded data removed]",
      "text/plain": [
       "<Figure size 864x288 with 1 Axes>"
      ]
     },
     "metadata": {
      "needs_background": "light"
     },
     "output_type": "display_data"
    }
   ],
   "source": [
    "df_tsla[\"High\"].plot(figsize=(12,4)) #figsize se inc the size"
   ]
  },
  {
   "cell_type": "code",
   "execution_count": null,
   "id": "17f59233",
   "metadata": {},
   "outputs": [],
   "source": [
    "# particular region jahan inc hua h. wo dekhna h"
   ]
  },
  {
   "cell_type": "code",
   "execution_count": 10,
   "id": "94be070f",
   "metadata": {},
   "outputs": [
    {
     "data": {
      "text/plain": [
       "<AxesSubplot:xlabel='Date'>"
      ]
     },
     "execution_count": 10,
     "metadata": {},
     "output_type": "execute_result"
    },
    {
     "data": {
      "image/png": "[encoded data removed]",
      "text/plain": [
       "<Figure size 864x288 with 1 Axes>"
      ]
     },
     "metadata": {
      "needs_background": "light"
     },
     "output_type": "display_data"
    }
   ],
   "source": [
    "# x limit and y limit\n",
    "\n",
    "\n",
    "df_tsla[\"High\"].plot(xlim=['2020-01-01','2021-09-01'],figsize=(12,4))"
   ]
  },
  {
   "cell_type": "code",
   "execution_count": null,
   "id": "6dfa2ded",
   "metadata": {},
   "outputs": [],
   "source": [
    "#now you can see clearly how data is moving"
   ]
  },
  {
   "cell_type": "code",
   "execution_count": 14,
   "id": "d048c733",
   "metadata": {},
   "outputs": [
    {
     "data": {
      "text/plain": [
       "<AxesSubplot:xlabel='Date'>"
      ]
     },
     "execution_count": 14,
     "metadata": {},
     "output_type": "execute_result"
    },
    {
     "data": {
      "image/png": "[encoded data removed]",
      "text/plain": [
       "<Figure size 864x288 with 1 Axes>"
      ]
     },
     "metadata": {
      "needs_background": "light"
     },
     "output_type": "display_data"
    }
   ],
   "source": [
    "# x limit and y limit\n",
    "\n",
    "\n",
    "df_tsla[\"High\"].plot(xlim=['2020-01-01','2021-09-01'],ylim=[0,900],figsize=(12,4))"
   ]
  },
  {
   "cell_type": "code",
   "execution_count": null,
   "id": "46b5edfa",
   "metadata": {},
   "outputs": [],
   "source": [
    "# above is now a little better with ylim"
   ]
  },
  {
   "cell_type": "code",
   "execution_count": null,
   "id": "83a75cb8",
   "metadata": {},
   "outputs": [],
   "source": [
    "# lets apply some coloring. play with diff parameters"
   ]
  },
  {
   "cell_type": "code",
   "execution_count": 18,
   "id": "546645a4",
   "metadata": {},
   "outputs": [
    {
     "data": {
      "text/plain": [
       "<AxesSubplot:xlabel='Date'>"
      ]
     },
     "execution_count": 18,
     "metadata": {},
     "output_type": "execute_result"
    },
    {
     "data": {
      "image/png": "[encoded data removed]",
      "text/plain": [
       "<Figure size 864x288 with 1 Axes>"
      ]
     },
     "metadata": {
      "needs_background": "light"
     },
     "output_type": "display_data"
    }
   ],
   "source": [
    "# x limit and y limit\n",
    "\n",
    "\n",
    "df_tsla[\"High\"].plot(xlim=['2020-01-01','2021-09-01'],ylim=[0,900],figsize=(12,4),ls='--',c='green')"
   ]
  },
  {
   "cell_type": "code",
   "execution_count": 11,
   "id": "e67275cf",
   "metadata": {},
   "outputs": [
    {
     "data": {
      "text/html": [
       "<div>\n",
       "<style scoped>\n",
       "    .dataframe tbody tr th:only-of-type {\n",
       "        vertical-align: middle;\n",
       "    }\n",
       "\n",
       "    .dataframe tbody tr th {\n",
       "        vertical-align: top;\n",
       "    }\n",
       "\n",
       "    .dataframe thead th {\n",
       "        text-align: right;\n",
       "    }\n",
       "</style>\n",
       "<table border=\"1\" class=\"dataframe\">\n",
       "  <thead>\n",
       "    <tr style=\"text-align: right;\">\n",
       "      <th></th>\n",
       "      <th>High</th>\n",
       "      <th>Low</th>\n",
       "      <th>Open</th>\n",
       "      <th>Close</th>\n",
       "      <th>Volume</th>\n",
       "      <th>Adj Close</th>\n",
       "    </tr>\n",
       "    <tr>\n",
       "      <th>Date</th>\n",
       "      <th></th>\n",
       "      <th></th>\n",
       "      <th></th>\n",
       "      <th></th>\n",
       "      <th></th>\n",
       "      <th></th>\n",
       "    </tr>\n",
       "  </thead>\n",
       "  <tbody>\n",
       "    <tr>\n",
       "      <th>2017-04-13</th>\n",
       "      <td>61.478001</td>\n",
       "      <td>59.060001</td>\n",
       "      <td>59.340000</td>\n",
       "      <td>60.799999</td>\n",
       "      <td>46423000.0</td>\n",
       "      <td>60.799999</td>\n",
       "    </tr>\n",
       "    <tr>\n",
       "      <th>2017-04-17</th>\n",
       "      <td>60.799999</td>\n",
       "      <td>59.736000</td>\n",
       "      <td>60.540001</td>\n",
       "      <td>60.287998</td>\n",
       "      <td>20693500.0</td>\n",
       "      <td>60.287998</td>\n",
       "    </tr>\n",
       "    <tr>\n",
       "      <th>2017-04-18</th>\n",
       "      <td>60.167999</td>\n",
       "      <td>59.580002</td>\n",
       "      <td>59.939999</td>\n",
       "      <td>60.049999</td>\n",
       "      <td>15178500.0</td>\n",
       "      <td>60.049999</td>\n",
       "    </tr>\n",
       "    <tr>\n",
       "      <th>2017-04-19</th>\n",
       "      <td>61.324001</td>\n",
       "      <td>60.422001</td>\n",
       "      <td>60.492001</td>\n",
       "      <td>61.104000</td>\n",
       "      <td>19490000.0</td>\n",
       "      <td>61.104000</td>\n",
       "    </tr>\n",
       "    <tr>\n",
       "      <th>2017-04-20</th>\n",
       "      <td>61.830002</td>\n",
       "      <td>60.046001</td>\n",
       "      <td>61.301998</td>\n",
       "      <td>60.501999</td>\n",
       "      <td>30747000.0</td>\n",
       "      <td>60.501999</td>\n",
       "    </tr>\n",
       "    <tr>\n",
       "      <th>...</th>\n",
       "      <td>...</td>\n",
       "      <td>...</td>\n",
       "      <td>...</td>\n",
       "      <td>...</td>\n",
       "      <td>...</td>\n",
       "      <td>...</td>\n",
       "    </tr>\n",
       "    <tr>\n",
       "      <th>2022-04-06</th>\n",
       "      <td>1079.000000</td>\n",
       "      <td>1027.699951</td>\n",
       "      <td>1073.469971</td>\n",
       "      <td>1045.760010</td>\n",
       "      <td>29782800.0</td>\n",
       "      <td>1045.760010</td>\n",
       "    </tr>\n",
       "    <tr>\n",
       "      <th>2022-04-07</th>\n",
       "      <td>1076.589966</td>\n",
       "      <td>1021.539978</td>\n",
       "      <td>1052.390015</td>\n",
       "      <td>1057.260010</td>\n",
       "      <td>26482400.0</td>\n",
       "      <td>1057.260010</td>\n",
       "    </tr>\n",
       "    <tr>\n",
       "      <th>2022-04-08</th>\n",
       "      <td>1048.439941</td>\n",
       "      <td>1022.440002</td>\n",
       "      <td>1043.209961</td>\n",
       "      <td>1025.489990</td>\n",
       "      <td>18293300.0</td>\n",
       "      <td>1025.489990</td>\n",
       "    </tr>\n",
       "    <tr>\n",
       "      <th>2022-04-11</th>\n",
       "      <td>1008.469971</td>\n",
       "      <td>974.640015</td>\n",
       "      <td>980.400024</td>\n",
       "      <td>975.929993</td>\n",
       "      <td>19785700.0</td>\n",
       "      <td>975.929993</td>\n",
       "    </tr>\n",
       "    <tr>\n",
       "      <th>2022-04-12</th>\n",
       "      <td>1021.190002</td>\n",
       "      <td>976.599976</td>\n",
       "      <td>997.640015</td>\n",
       "      <td>986.950012</td>\n",
       "      <td>21948800.0</td>\n",
       "      <td>986.950012</td>\n",
       "    </tr>\n",
       "  </tbody>\n",
       "</table>\n",
       "<p>1259 rows × 6 columns</p>\n",
       "</div>"
      ],
      "text/plain": [
       "                   High          Low         Open        Close      Volume  \\\n",
       "Date                                                                         \n",
       "2017-04-13    61.478001    59.060001    59.340000    60.799999  46423000.0   \n",
       "2017-04-17    60.799999    59.736000    60.540001    60.287998  20693500.0   \n",
       "2017-04-18    60.167999    59.580002    59.939999    60.049999  15178500.0   \n",
       "2017-04-19    61.324001    60.422001    60.492001    61.104000  19490000.0   \n",
       "2017-04-20    61.830002    60.046001    61.301998    60.501999  30747000.0   \n",
       "...                 ...          ...          ...          ...         ...   \n",
       "2022-04-06  1079.000000  1027.699951  1073.469971  1045.760010  29782800.0   \n",
       "2022-04-07  1076.589966  1021.539978  1052.390015  1057.260010  26482400.0   \n",
       "2022-04-08  1048.439941  1022.440002  1043.209961  1025.489990  18293300.0   \n",
       "2022-04-11  1008.469971   974.640015   980.400024   975.929993  19785700.0   \n",
       "2022-04-12  1021.190002   976.599976   997.640015   986.950012  21948800.0   \n",
       "\n",
       "              Adj Close  \n",
       "Date                     \n",
       "2017-04-13    60.799999  \n",
       "2017-04-17    60.287998  \n",
       "2017-04-18    60.049999  \n",
       "2017-04-19    61.104000  \n",
       "2017-04-20    60.501999  \n",
       "...                 ...  \n",
       "2022-04-06  1045.760010  \n",
       "2022-04-07  1057.260010  \n",
       "2022-04-08  1025.489990  \n",
       "2022-04-11   975.929993  \n",
       "2022-04-12   986.950012  \n",
       "\n",
       "[1259 rows x 6 columns]"
      ]
     },
     "execution_count": 11,
     "metadata": {},
     "output_type": "execute_result"
    }
   ],
   "source": [
    "df_tsla"
   ]
  },
  {
   "cell_type": "code",
   "execution_count": 19,
   "id": "843a34f2",
   "metadata": {},
   "outputs": [
    {
     "data": {
      "text/plain": [
       "DatetimeIndex(['2017-02-27', '2017-02-28', '2017-03-01', '2017-03-02',\n",
       "               '2017-03-03', '2017-03-06', '2017-03-07', '2017-03-08',\n",
       "               '2017-03-09', '2017-03-10',\n",
       "               ...\n",
       "               '2022-02-10', '2022-02-11', '2022-02-14', '2022-02-15',\n",
       "               '2022-02-16', '2022-02-17', '2022-02-18', '2022-02-22',\n",
       "               '2022-02-23', '2022-02-24'],\n",
       "              dtype='datetime64[ns]', name='Date', length=1259, freq=None)"
      ]
     },
     "execution_count": 19,
     "metadata": {},
     "output_type": "execute_result"
    }
   ],
   "source": [
    "df_tsla.index"
   ]
  },
  {
   "cell_type": "code",
   "execution_count": null,
   "id": "cdf78c5c",
   "metadata": {},
   "outputs": [],
   "source": [
    "# how to read specific index. eg first 4 rows"
   ]
  },
  {
   "cell_type": "code",
   "execution_count": 12,
   "id": "cb65aaa6",
   "metadata": {},
   "outputs": [
    {
     "data": {
      "text/html": [
       "<div>\n",
       "<style scoped>\n",
       "    .dataframe tbody tr th:only-of-type {\n",
       "        vertical-align: middle;\n",
       "    }\n",
       "\n",
       "    .dataframe tbody tr th {\n",
       "        vertical-align: top;\n",
       "    }\n",
       "\n",
       "    .dataframe thead th {\n",
       "        text-align: right;\n",
       "    }\n",
       "</style>\n",
       "<table border=\"1\" class=\"dataframe\">\n",
       "  <thead>\n",
       "    <tr style=\"text-align: right;\">\n",
       "      <th></th>\n",
       "      <th>High</th>\n",
       "      <th>Low</th>\n",
       "      <th>Open</th>\n",
       "      <th>Close</th>\n",
       "      <th>Volume</th>\n",
       "      <th>Adj Close</th>\n",
       "    </tr>\n",
       "    <tr>\n",
       "      <th>Date</th>\n",
       "      <th></th>\n",
       "      <th></th>\n",
       "      <th></th>\n",
       "      <th></th>\n",
       "      <th></th>\n",
       "      <th></th>\n",
       "    </tr>\n",
       "  </thead>\n",
       "  <tbody>\n",
       "    <tr>\n",
       "      <th>2020-01-02</th>\n",
       "      <td>86.139999</td>\n",
       "      <td>84.342003</td>\n",
       "      <td>84.900002</td>\n",
       "      <td>86.052002</td>\n",
       "      <td>47660500.0</td>\n",
       "      <td>86.052002</td>\n",
       "    </tr>\n",
       "    <tr>\n",
       "      <th>2020-01-03</th>\n",
       "      <td>90.800003</td>\n",
       "      <td>87.384003</td>\n",
       "      <td>88.099998</td>\n",
       "      <td>88.601997</td>\n",
       "      <td>88892500.0</td>\n",
       "      <td>88.601997</td>\n",
       "    </tr>\n",
       "    <tr>\n",
       "      <th>2020-01-06</th>\n",
       "      <td>90.311996</td>\n",
       "      <td>88.000000</td>\n",
       "      <td>88.094002</td>\n",
       "      <td>90.307999</td>\n",
       "      <td>50665000.0</td>\n",
       "      <td>90.307999</td>\n",
       "    </tr>\n",
       "    <tr>\n",
       "      <th>2020-01-07</th>\n",
       "      <td>94.325996</td>\n",
       "      <td>90.671997</td>\n",
       "      <td>92.279999</td>\n",
       "      <td>93.811996</td>\n",
       "      <td>89410500.0</td>\n",
       "      <td>93.811996</td>\n",
       "    </tr>\n",
       "    <tr>\n",
       "      <th>2020-01-08</th>\n",
       "      <td>99.697998</td>\n",
       "      <td>93.646004</td>\n",
       "      <td>94.739998</td>\n",
       "      <td>98.428001</td>\n",
       "      <td>155721500.0</td>\n",
       "      <td>98.428001</td>\n",
       "    </tr>\n",
       "    <tr>\n",
       "      <th>...</th>\n",
       "      <td>...</td>\n",
       "      <td>...</td>\n",
       "      <td>...</td>\n",
       "      <td>...</td>\n",
       "      <td>...</td>\n",
       "      <td>...</td>\n",
       "    </tr>\n",
       "    <tr>\n",
       "      <th>2021-08-26</th>\n",
       "      <td>715.400024</td>\n",
       "      <td>697.619995</td>\n",
       "      <td>708.309998</td>\n",
       "      <td>701.159973</td>\n",
       "      <td>13214300.0</td>\n",
       "      <td>701.159973</td>\n",
       "    </tr>\n",
       "    <tr>\n",
       "      <th>2021-08-27</th>\n",
       "      <td>715.000000</td>\n",
       "      <td>702.099976</td>\n",
       "      <td>705.000000</td>\n",
       "      <td>711.919983</td>\n",
       "      <td>13833800.0</td>\n",
       "      <td>711.919983</td>\n",
       "    </tr>\n",
       "    <tr>\n",
       "      <th>2021-08-30</th>\n",
       "      <td>731.000000</td>\n",
       "      <td>712.729980</td>\n",
       "      <td>714.719971</td>\n",
       "      <td>730.909973</td>\n",
       "      <td>18604200.0</td>\n",
       "      <td>730.909973</td>\n",
       "    </tr>\n",
       "    <tr>\n",
       "      <th>2021-08-31</th>\n",
       "      <td>740.390015</td>\n",
       "      <td>726.440002</td>\n",
       "      <td>733.000000</td>\n",
       "      <td>735.719971</td>\n",
       "      <td>20855400.0</td>\n",
       "      <td>735.719971</td>\n",
       "    </tr>\n",
       "    <tr>\n",
       "      <th>2021-09-01</th>\n",
       "      <td>741.989990</td>\n",
       "      <td>731.270020</td>\n",
       "      <td>734.080017</td>\n",
       "      <td>734.090027</td>\n",
       "      <td>13204300.0</td>\n",
       "      <td>734.090027</td>\n",
       "    </tr>\n",
       "  </tbody>\n",
       "</table>\n",
       "<p>421 rows × 6 columns</p>\n",
       "</div>"
      ],
      "text/plain": [
       "                  High         Low        Open       Close       Volume  \\\n",
       "Date                                                                      \n",
       "2020-01-02   86.139999   84.342003   84.900002   86.052002   47660500.0   \n",
       "2020-01-03   90.800003   87.384003   88.099998   88.601997   88892500.0   \n",
       "2020-01-06   90.311996   88.000000   88.094002   90.307999   50665000.0   \n",
       "2020-01-07   94.325996   90.671997   92.279999   93.811996   89410500.0   \n",
       "2020-01-08   99.697998   93.646004   94.739998   98.428001  155721500.0   \n",
       "...                ...         ...         ...         ...          ...   \n",
       "2021-08-26  715.400024  697.619995  708.309998  701.159973   13214300.0   \n",
       "2021-08-27  715.000000  702.099976  705.000000  711.919983   13833800.0   \n",
       "2021-08-30  731.000000  712.729980  714.719971  730.909973   18604200.0   \n",
       "2021-08-31  740.390015  726.440002  733.000000  735.719971   20855400.0   \n",
       "2021-09-01  741.989990  731.270020  734.080017  734.090027   13204300.0   \n",
       "\n",
       "             Adj Close  \n",
       "Date                    \n",
       "2020-01-02   86.052002  \n",
       "2020-01-03   88.601997  \n",
       "2020-01-06   90.307999  \n",
       "2020-01-07   93.811996  \n",
       "2020-01-08   98.428001  \n",
       "...                ...  \n",
       "2021-08-26  701.159973  \n",
       "2021-08-27  711.919983  \n",
       "2021-08-30  730.909973  \n",
       "2021-08-31  735.719971  \n",
       "2021-09-01  734.090027  \n",
       "\n",
       "[421 rows x 6 columns]"
      ]
     },
     "execution_count": 12,
     "metadata": {},
     "output_type": "execute_result"
    }
   ],
   "source": [
    "df_tsla.loc['2020-01-01':'2021-09-01']"
   ]
  },
  {
   "cell_type": "code",
   "execution_count": 13,
   "id": "6906cefa",
   "metadata": {},
   "outputs": [
    {
     "data": {
      "text/plain": [
       "Date\n",
       "2020-01-02     84.900002\n",
       "2020-01-03     88.099998\n",
       "2020-01-06     88.094002\n",
       "2020-01-07     92.279999\n",
       "2020-01-08     94.739998\n",
       "                 ...    \n",
       "2021-08-26    708.309998\n",
       "2021-08-27    705.000000\n",
       "2021-08-30    714.719971\n",
       "2021-08-31    733.000000\n",
       "2021-09-01    734.080017\n",
       "Name: Open, Length: 421, dtype: float64"
      ]
     },
     "execution_count": 13,
     "metadata": {},
     "output_type": "execute_result"
    }
   ],
   "source": [
    "df_tsla.loc['2020-01-01':'2021-09-01']['Open']"
   ]
  },
  {
   "cell_type": "code",
   "execution_count": 15,
   "id": "2fc24d24",
   "metadata": {},
   "outputs": [],
   "source": [
    "index=df_tsla.loc['2020-01-01':'2021-09-01'].index\n",
    "\n",
    "\n",
    "\n",
    "share_open=df_tsla.loc['2020-01-01':'2021-09-01']['Open']"
   ]
  },
  {
   "cell_type": "code",
   "execution_count": 16,
   "id": "7a7e24ae",
   "metadata": {},
   "outputs": [
    {
     "data": {
      "text/plain": [
       "Date\n",
       "2020-01-02     84.900002\n",
       "2020-01-03     88.099998\n",
       "2020-01-06     88.094002\n",
       "2020-01-07     92.279999\n",
       "2020-01-08     94.739998\n",
       "                 ...    \n",
       "2021-08-26    708.309998\n",
       "2021-08-27    705.000000\n",
       "2021-08-30    714.719971\n",
       "2021-08-31    733.000000\n",
       "2021-09-01    734.080017\n",
       "Name: Open, Length: 421, dtype: float64"
      ]
     },
     "execution_count": 16,
     "metadata": {},
     "output_type": "execute_result"
    }
   ],
   "source": [
    "share_open"
   ]
  },
  {
   "cell_type": "code",
   "execution_count": 17,
   "id": "7df13c40",
   "metadata": {},
   "outputs": [
    {
     "data": {
      "text/plain": [
       "DatetimeIndex(['2020-01-02', '2020-01-03', '2020-01-06', '2020-01-07',\n",
       "               '2020-01-08', '2020-01-09', '2020-01-10', '2020-01-13',\n",
       "               '2020-01-14', '2020-01-15',\n",
       "               ...\n",
       "               '2021-08-19', '2021-08-20', '2021-08-23', '2021-08-24',\n",
       "               '2021-08-25', '2021-08-26', '2021-08-27', '2021-08-30',\n",
       "               '2021-08-31', '2021-09-01'],\n",
       "              dtype='datetime64[ns]', name='Date', length=421, freq=None)"
      ]
     },
     "execution_count": 17,
     "metadata": {},
     "output_type": "execute_result"
    }
   ],
   "source": [
    "index"
   ]
  },
  {
   "cell_type": "code",
   "execution_count": null,
   "id": "3280e095",
   "metadata": {},
   "outputs": [],
   "source": [
    "# draW A Subplot. with specific data"
   ]
  },
  {
   "cell_type": "code",
   "execution_count": 19,
   "id": "df280806",
   "metadata": {},
   "outputs": [],
   "source": [
    "import matplotlib.pyplot as plt\n",
    "\n",
    "%matplotlib inline"
   ]
  },
  {
   "cell_type": "code",
   "execution_count": 20,
   "id": "79e3e852",
   "metadata": {},
   "outputs": [
    {
     "data": {
      "text/plain": [
       "[<matplotlib.lines.Line2D at 0x2705b9193d0>]"
      ]
     },
     "execution_count": 20,
     "metadata": {},
     "output_type": "execute_result"
    },
    {
     "data": {
      "image/png": "[encoded data removed]",
      "text/plain": [
       "<Figure size 432x288 with 1 Axes>"
      ]
     },
     "metadata": {
      "needs_background": "light"
     },
     "output_type": "display_data"
    }
   ],
   "source": [
    "figure,axis=plt.subplots()\n",
    "axis.plot(index,share_open)"
   ]
  },
  {
   "cell_type": "code",
   "execution_count": 21,
   "id": "d9ada2e9",
   "metadata": {},
   "outputs": [
    {
     "data": {
      "text/plain": [
       "[<matplotlib.lines.Line2D at 0x2705b98df40>]"
      ]
     },
     "execution_count": 21,
     "metadata": {},
     "output_type": "execute_result"
    },
    {
     "data": {
      "image/png": "[encoded data removed]",
      "text/plain": [
       "<Figure size 432x288 with 1 Axes>"
      ]
     },
     "metadata": {
      "needs_background": "light"
     },
     "output_type": "display_data"
    }
   ],
   "source": [
    "figure,axis=plt.subplots()\n",
    "\n",
    "plt.tight_layout() #for clearity in overlapping\n",
    "\n",
    "figure.autofmt_xdate() #preventing overlapping\n",
    "\n",
    "axis.plot(index,share_open)"
   ]
  },
  {
   "cell_type": "code",
   "execution_count": null,
   "id": "569ed930",
   "metadata": {},
   "outputs": [],
   "source": [
    "#datetime index"
   ]
  },
  {
   "cell_type": "code",
   "execution_count": 31,
   "id": "92c6c40a",
   "metadata": {},
   "outputs": [
    {
     "name": "stdout",
     "output_type": "stream",
     "text": [
      "<class 'pandas.core.frame.DataFrame'>\n",
      "DatetimeIndex: 1259 entries, 2017-02-27 to 2022-02-24\n",
      "Data columns (total 6 columns):\n",
      " #   Column     Non-Null Count  Dtype  \n",
      "---  ------     --------------  -----  \n",
      " 0   High       1259 non-null   float64\n",
      " 1   Low        1259 non-null   float64\n",
      " 2   Open       1259 non-null   float64\n",
      " 3   Close      1259 non-null   float64\n",
      " 4   Volume     1259 non-null   float64\n",
      " 5   Adj Close  1259 non-null   float64\n",
      "dtypes: float64(6)\n",
      "memory usage: 101.1 KB\n"
     ]
    }
   ],
   "source": [
    "df_tsla.info()"
   ]
  },
  {
   "cell_type": "code",
   "execution_count": 22,
   "id": "e35c6957",
   "metadata": {},
   "outputs": [
    {
     "data": {
      "text/html": [
       "<div>\n",
       "<style scoped>\n",
       "    .dataframe tbody tr th:only-of-type {\n",
       "        vertical-align: middle;\n",
       "    }\n",
       "\n",
       "    .dataframe tbody tr th {\n",
       "        vertical-align: top;\n",
       "    }\n",
       "\n",
       "    .dataframe thead th {\n",
       "        text-align: right;\n",
       "    }\n",
       "</style>\n",
       "<table border=\"1\" class=\"dataframe\">\n",
       "  <thead>\n",
       "    <tr style=\"text-align: right;\">\n",
       "      <th></th>\n",
       "      <th>High</th>\n",
       "      <th>Low</th>\n",
       "      <th>Open</th>\n",
       "      <th>Close</th>\n",
       "      <th>Volume</th>\n",
       "      <th>Adj Close</th>\n",
       "    </tr>\n",
       "    <tr>\n",
       "      <th>Date</th>\n",
       "      <th></th>\n",
       "      <th></th>\n",
       "      <th></th>\n",
       "      <th></th>\n",
       "      <th></th>\n",
       "      <th></th>\n",
       "    </tr>\n",
       "  </thead>\n",
       "  <tbody>\n",
       "    <tr>\n",
       "      <th>2017-04-13</th>\n",
       "      <td>61.478001</td>\n",
       "      <td>59.060001</td>\n",
       "      <td>59.340000</td>\n",
       "      <td>60.799999</td>\n",
       "      <td>46423000.0</td>\n",
       "      <td>60.799999</td>\n",
       "    </tr>\n",
       "    <tr>\n",
       "      <th>2017-04-17</th>\n",
       "      <td>60.799999</td>\n",
       "      <td>59.736000</td>\n",
       "      <td>60.540001</td>\n",
       "      <td>60.287998</td>\n",
       "      <td>20693500.0</td>\n",
       "      <td>60.287998</td>\n",
       "    </tr>\n",
       "    <tr>\n",
       "      <th>2017-04-18</th>\n",
       "      <td>60.167999</td>\n",
       "      <td>59.580002</td>\n",
       "      <td>59.939999</td>\n",
       "      <td>60.049999</td>\n",
       "      <td>15178500.0</td>\n",
       "      <td>60.049999</td>\n",
       "    </tr>\n",
       "    <tr>\n",
       "      <th>2017-04-19</th>\n",
       "      <td>61.324001</td>\n",
       "      <td>60.422001</td>\n",
       "      <td>60.492001</td>\n",
       "      <td>61.104000</td>\n",
       "      <td>19490000.0</td>\n",
       "      <td>61.104000</td>\n",
       "    </tr>\n",
       "    <tr>\n",
       "      <th>2017-04-20</th>\n",
       "      <td>61.830002</td>\n",
       "      <td>60.046001</td>\n",
       "      <td>61.301998</td>\n",
       "      <td>60.501999</td>\n",
       "      <td>30747000.0</td>\n",
       "      <td>60.501999</td>\n",
       "    </tr>\n",
       "    <tr>\n",
       "      <th>...</th>\n",
       "      <td>...</td>\n",
       "      <td>...</td>\n",
       "      <td>...</td>\n",
       "      <td>...</td>\n",
       "      <td>...</td>\n",
       "      <td>...</td>\n",
       "    </tr>\n",
       "    <tr>\n",
       "      <th>2022-04-06</th>\n",
       "      <td>1079.000000</td>\n",
       "      <td>1027.699951</td>\n",
       "      <td>1073.469971</td>\n",
       "      <td>1045.760010</td>\n",
       "      <td>29782800.0</td>\n",
       "      <td>1045.760010</td>\n",
       "    </tr>\n",
       "    <tr>\n",
       "      <th>2022-04-07</th>\n",
       "      <td>1076.589966</td>\n",
       "      <td>1021.539978</td>\n",
       "      <td>1052.390015</td>\n",
       "      <td>1057.260010</td>\n",
       "      <td>26482400.0</td>\n",
       "      <td>1057.260010</td>\n",
       "    </tr>\n",
       "    <tr>\n",
       "      <th>2022-04-08</th>\n",
       "      <td>1048.439941</td>\n",
       "      <td>1022.440002</td>\n",
       "      <td>1043.209961</td>\n",
       "      <td>1025.489990</td>\n",
       "      <td>18293300.0</td>\n",
       "      <td>1025.489990</td>\n",
       "    </tr>\n",
       "    <tr>\n",
       "      <th>2022-04-11</th>\n",
       "      <td>1008.469971</td>\n",
       "      <td>974.640015</td>\n",
       "      <td>980.400024</td>\n",
       "      <td>975.929993</td>\n",
       "      <td>19785700.0</td>\n",
       "      <td>975.929993</td>\n",
       "    </tr>\n",
       "    <tr>\n",
       "      <th>2022-04-12</th>\n",
       "      <td>1021.190002</td>\n",
       "      <td>976.599976</td>\n",
       "      <td>997.640015</td>\n",
       "      <td>986.950012</td>\n",
       "      <td>21948800.0</td>\n",
       "      <td>986.950012</td>\n",
       "    </tr>\n",
       "  </tbody>\n",
       "</table>\n",
       "<p>1259 rows × 6 columns</p>\n",
       "</div>"
      ],
      "text/plain": [
       "                   High          Low         Open        Close      Volume  \\\n",
       "Date                                                                         \n",
       "2017-04-13    61.478001    59.060001    59.340000    60.799999  46423000.0   \n",
       "2017-04-17    60.799999    59.736000    60.540001    60.287998  20693500.0   \n",
       "2017-04-18    60.167999    59.580002    59.939999    60.049999  15178500.0   \n",
       "2017-04-19    61.324001    60.422001    60.492001    61.104000  19490000.0   \n",
       "2017-04-20    61.830002    60.046001    61.301998    60.501999  30747000.0   \n",
       "...                 ...          ...          ...          ...         ...   \n",
       "2022-04-06  1079.000000  1027.699951  1073.469971  1045.760010  29782800.0   \n",
       "2022-04-07  1076.589966  1021.539978  1052.390015  1057.260010  26482400.0   \n",
       "2022-04-08  1048.439941  1022.440002  1043.209961  1025.489990  18293300.0   \n",
       "2022-04-11  1008.469971   974.640015   980.400024   975.929993  19785700.0   \n",
       "2022-04-12  1021.190002   976.599976   997.640015   986.950012  21948800.0   \n",
       "\n",
       "              Adj Close  \n",
       "Date                     \n",
       "2017-04-13    60.799999  \n",
       "2017-04-17    60.287998  \n",
       "2017-04-18    60.049999  \n",
       "2017-04-19    61.104000  \n",
       "2017-04-20    60.501999  \n",
       "...                 ...  \n",
       "2022-04-06  1045.760010  \n",
       "2022-04-07  1057.260010  \n",
       "2022-04-08  1025.489990  \n",
       "2022-04-11   975.929993  \n",
       "2022-04-12   986.950012  \n",
       "\n",
       "[1259 rows x 6 columns]"
      ]
     },
     "execution_count": 22,
     "metadata": {},
     "output_type": "execute_result"
    }
   ],
   "source": [
    "df_tsla # date index mei hai. usko column banaane k liye use reset_index"
   ]
  },
  {
   "cell_type": "code",
   "execution_count": 23,
   "id": "1b56f656",
   "metadata": {},
   "outputs": [
    {
     "data": {
      "text/html": [
       "<div>\n",
       "<style scoped>\n",
       "    .dataframe tbody tr th:only-of-type {\n",
       "        vertical-align: middle;\n",
       "    }\n",
       "\n",
       "    .dataframe tbody tr th {\n",
       "        vertical-align: top;\n",
       "    }\n",
       "\n",
       "    .dataframe thead th {\n",
       "        text-align: right;\n",
       "    }\n",
       "</style>\n",
       "<table border=\"1\" class=\"dataframe\">\n",
       "  <thead>\n",
       "    <tr style=\"text-align: right;\">\n",
       "      <th></th>\n",
       "      <th>Date</th>\n",
       "      <th>High</th>\n",
       "      <th>Low</th>\n",
       "      <th>Open</th>\n",
       "      <th>Close</th>\n",
       "      <th>Volume</th>\n",
       "      <th>Adj Close</th>\n",
       "    </tr>\n",
       "  </thead>\n",
       "  <tbody>\n",
       "    <tr>\n",
       "      <th>0</th>\n",
       "      <td>2017-04-13</td>\n",
       "      <td>61.478001</td>\n",
       "      <td>59.060001</td>\n",
       "      <td>59.340000</td>\n",
       "      <td>60.799999</td>\n",
       "      <td>46423000.0</td>\n",
       "      <td>60.799999</td>\n",
       "    </tr>\n",
       "    <tr>\n",
       "      <th>1</th>\n",
       "      <td>2017-04-17</td>\n",
       "      <td>60.799999</td>\n",
       "      <td>59.736000</td>\n",
       "      <td>60.540001</td>\n",
       "      <td>60.287998</td>\n",
       "      <td>20693500.0</td>\n",
       "      <td>60.287998</td>\n",
       "    </tr>\n",
       "    <tr>\n",
       "      <th>2</th>\n",
       "      <td>2017-04-18</td>\n",
       "      <td>60.167999</td>\n",
       "      <td>59.580002</td>\n",
       "      <td>59.939999</td>\n",
       "      <td>60.049999</td>\n",
       "      <td>15178500.0</td>\n",
       "      <td>60.049999</td>\n",
       "    </tr>\n",
       "    <tr>\n",
       "      <th>3</th>\n",
       "      <td>2017-04-19</td>\n",
       "      <td>61.324001</td>\n",
       "      <td>60.422001</td>\n",
       "      <td>60.492001</td>\n",
       "      <td>61.104000</td>\n",
       "      <td>19490000.0</td>\n",
       "      <td>61.104000</td>\n",
       "    </tr>\n",
       "    <tr>\n",
       "      <th>4</th>\n",
       "      <td>2017-04-20</td>\n",
       "      <td>61.830002</td>\n",
       "      <td>60.046001</td>\n",
       "      <td>61.301998</td>\n",
       "      <td>60.501999</td>\n",
       "      <td>30747000.0</td>\n",
       "      <td>60.501999</td>\n",
       "    </tr>\n",
       "    <tr>\n",
       "      <th>...</th>\n",
       "      <td>...</td>\n",
       "      <td>...</td>\n",
       "      <td>...</td>\n",
       "      <td>...</td>\n",
       "      <td>...</td>\n",
       "      <td>...</td>\n",
       "      <td>...</td>\n",
       "    </tr>\n",
       "    <tr>\n",
       "      <th>1254</th>\n",
       "      <td>2022-04-06</td>\n",
       "      <td>1079.000000</td>\n",
       "      <td>1027.699951</td>\n",
       "      <td>1073.469971</td>\n",
       "      <td>1045.760010</td>\n",
       "      <td>29782800.0</td>\n",
       "      <td>1045.760010</td>\n",
       "    </tr>\n",
       "    <tr>\n",
       "      <th>1255</th>\n",
       "      <td>2022-04-07</td>\n",
       "      <td>1076.589966</td>\n",
       "      <td>1021.539978</td>\n",
       "      <td>1052.390015</td>\n",
       "      <td>1057.260010</td>\n",
       "      <td>26482400.0</td>\n",
       "      <td>1057.260010</td>\n",
       "    </tr>\n",
       "    <tr>\n",
       "      <th>1256</th>\n",
       "      <td>2022-04-08</td>\n",
       "      <td>1048.439941</td>\n",
       "      <td>1022.440002</td>\n",
       "      <td>1043.209961</td>\n",
       "      <td>1025.489990</td>\n",
       "      <td>18293300.0</td>\n",
       "      <td>1025.489990</td>\n",
       "    </tr>\n",
       "    <tr>\n",
       "      <th>1257</th>\n",
       "      <td>2022-04-11</td>\n",
       "      <td>1008.469971</td>\n",
       "      <td>974.640015</td>\n",
       "      <td>980.400024</td>\n",
       "      <td>975.929993</td>\n",
       "      <td>19785700.0</td>\n",
       "      <td>975.929993</td>\n",
       "    </tr>\n",
       "    <tr>\n",
       "      <th>1258</th>\n",
       "      <td>2022-04-12</td>\n",
       "      <td>1021.190002</td>\n",
       "      <td>976.599976</td>\n",
       "      <td>997.640015</td>\n",
       "      <td>986.950012</td>\n",
       "      <td>21948800.0</td>\n",
       "      <td>986.950012</td>\n",
       "    </tr>\n",
       "  </tbody>\n",
       "</table>\n",
       "<p>1259 rows × 7 columns</p>\n",
       "</div>"
      ],
      "text/plain": [
       "           Date         High          Low         Open        Close  \\\n",
       "0    2017-04-13    61.478001    59.060001    59.340000    60.799999   \n",
       "1    2017-04-17    60.799999    59.736000    60.540001    60.287998   \n",
       "2    2017-04-18    60.167999    59.580002    59.939999    60.049999   \n",
       "3    2017-04-19    61.324001    60.422001    60.492001    61.104000   \n",
       "4    2017-04-20    61.830002    60.046001    61.301998    60.501999   \n",
       "...         ...          ...          ...          ...          ...   \n",
       "1254 2022-04-06  1079.000000  1027.699951  1073.469971  1045.760010   \n",
       "1255 2022-04-07  1076.589966  1021.539978  1052.390015  1057.260010   \n",
       "1256 2022-04-08  1048.439941  1022.440002  1043.209961  1025.489990   \n",
       "1257 2022-04-11  1008.469971   974.640015   980.400024   975.929993   \n",
       "1258 2022-04-12  1021.190002   976.599976   997.640015   986.950012   \n",
       "\n",
       "          Volume    Adj Close  \n",
       "0     46423000.0    60.799999  \n",
       "1     20693500.0    60.287998  \n",
       "2     15178500.0    60.049999  \n",
       "3     19490000.0    61.104000  \n",
       "4     30747000.0    60.501999  \n",
       "...          ...          ...  \n",
       "1254  29782800.0  1045.760010  \n",
       "1255  26482400.0  1057.260010  \n",
       "1256  18293300.0  1025.489990  \n",
       "1257  19785700.0   975.929993  \n",
       "1258  21948800.0   986.950012  \n",
       "\n",
       "[1259 rows x 7 columns]"
      ]
     },
     "execution_count": 23,
     "metadata": {},
     "output_type": "execute_result"
    }
   ],
   "source": [
    "df_tsla.reset_index()"
   ]
  },
  {
   "cell_type": "code",
   "execution_count": 24,
   "id": "5a331cfa",
   "metadata": {},
   "outputs": [],
   "source": [
    "df_tesla=df_tsla.reset_index()"
   ]
  },
  {
   "cell_type": "code",
   "execution_count": 25,
   "id": "55a37c4b",
   "metadata": {},
   "outputs": [
    {
     "name": "stdout",
     "output_type": "stream",
     "text": [
      "<class 'pandas.core.frame.DataFrame'>\n",
      "RangeIndex: 1259 entries, 0 to 1258\n",
      "Data columns (total 7 columns):\n",
      " #   Column     Non-Null Count  Dtype         \n",
      "---  ------     --------------  -----         \n",
      " 0   Date       1259 non-null   datetime64[ns]\n",
      " 1   High       1259 non-null   float64       \n",
      " 2   Low        1259 non-null   float64       \n",
      " 3   Open       1259 non-null   float64       \n",
      " 4   Close      1259 non-null   float64       \n",
      " 5   Volume     1259 non-null   float64       \n",
      " 6   Adj Close  1259 non-null   float64       \n",
      "dtypes: datetime64[ns](1), float64(6)\n",
      "memory usage: 69.0 KB\n"
     ]
    }
   ],
   "source": [
    "df_tesla.info()"
   ]
  },
  {
   "cell_type": "code",
   "execution_count": 26,
   "id": "bfb20fd8",
   "metadata": {},
   "outputs": [
    {
     "data": {
      "text/plain": [
       "0      2017-04-13\n",
       "1      2017-04-17\n",
       "2      2017-04-18\n",
       "3      2017-04-19\n",
       "4      2017-04-20\n",
       "          ...    \n",
       "1254   2022-04-06\n",
       "1255   2022-04-07\n",
       "1256   2022-04-08\n",
       "1257   2022-04-11\n",
       "1258   2022-04-12\n",
       "Name: Date, Length: 1259, dtype: datetime64[ns]"
      ]
     },
     "execution_count": 26,
     "metadata": {},
     "output_type": "execute_result"
    }
   ],
   "source": [
    "pd.to_datetime(df_tesla['Date'])"
   ]
  },
  {
   "cell_type": "code",
   "execution_count": 27,
   "id": "d0c9808a",
   "metadata": {},
   "outputs": [
    {
     "data": {
      "text/html": [
       "<div>\n",
       "<style scoped>\n",
       "    .dataframe tbody tr th:only-of-type {\n",
       "        vertical-align: middle;\n",
       "    }\n",
       "\n",
       "    .dataframe tbody tr th {\n",
       "        vertical-align: top;\n",
       "    }\n",
       "\n",
       "    .dataframe thead th {\n",
       "        text-align: right;\n",
       "    }\n",
       "</style>\n",
       "<table border=\"1\" class=\"dataframe\">\n",
       "  <thead>\n",
       "    <tr style=\"text-align: right;\">\n",
       "      <th></th>\n",
       "      <th>Date</th>\n",
       "      <th>High</th>\n",
       "      <th>Low</th>\n",
       "      <th>Open</th>\n",
       "      <th>Close</th>\n",
       "      <th>Volume</th>\n",
       "      <th>Adj Close</th>\n",
       "    </tr>\n",
       "  </thead>\n",
       "  <tbody>\n",
       "    <tr>\n",
       "      <th>0</th>\n",
       "      <td>2017-04-13</td>\n",
       "      <td>61.478001</td>\n",
       "      <td>59.060001</td>\n",
       "      <td>59.340000</td>\n",
       "      <td>60.799999</td>\n",
       "      <td>46423000.0</td>\n",
       "      <td>60.799999</td>\n",
       "    </tr>\n",
       "    <tr>\n",
       "      <th>1</th>\n",
       "      <td>2017-04-17</td>\n",
       "      <td>60.799999</td>\n",
       "      <td>59.736000</td>\n",
       "      <td>60.540001</td>\n",
       "      <td>60.287998</td>\n",
       "      <td>20693500.0</td>\n",
       "      <td>60.287998</td>\n",
       "    </tr>\n",
       "    <tr>\n",
       "      <th>2</th>\n",
       "      <td>2017-04-18</td>\n",
       "      <td>60.167999</td>\n",
       "      <td>59.580002</td>\n",
       "      <td>59.939999</td>\n",
       "      <td>60.049999</td>\n",
       "      <td>15178500.0</td>\n",
       "      <td>60.049999</td>\n",
       "    </tr>\n",
       "    <tr>\n",
       "      <th>3</th>\n",
       "      <td>2017-04-19</td>\n",
       "      <td>61.324001</td>\n",
       "      <td>60.422001</td>\n",
       "      <td>60.492001</td>\n",
       "      <td>61.104000</td>\n",
       "      <td>19490000.0</td>\n",
       "      <td>61.104000</td>\n",
       "    </tr>\n",
       "    <tr>\n",
       "      <th>4</th>\n",
       "      <td>2017-04-20</td>\n",
       "      <td>61.830002</td>\n",
       "      <td>60.046001</td>\n",
       "      <td>61.301998</td>\n",
       "      <td>60.501999</td>\n",
       "      <td>30747000.0</td>\n",
       "      <td>60.501999</td>\n",
       "    </tr>\n",
       "    <tr>\n",
       "      <th>...</th>\n",
       "      <td>...</td>\n",
       "      <td>...</td>\n",
       "      <td>...</td>\n",
       "      <td>...</td>\n",
       "      <td>...</td>\n",
       "      <td>...</td>\n",
       "      <td>...</td>\n",
       "    </tr>\n",
       "    <tr>\n",
       "      <th>1254</th>\n",
       "      <td>2022-04-06</td>\n",
       "      <td>1079.000000</td>\n",
       "      <td>1027.699951</td>\n",
       "      <td>1073.469971</td>\n",
       "      <td>1045.760010</td>\n",
       "      <td>29782800.0</td>\n",
       "      <td>1045.760010</td>\n",
       "    </tr>\n",
       "    <tr>\n",
       "      <th>1255</th>\n",
       "      <td>2022-04-07</td>\n",
       "      <td>1076.589966</td>\n",
       "      <td>1021.539978</td>\n",
       "      <td>1052.390015</td>\n",
       "      <td>1057.260010</td>\n",
       "      <td>26482400.0</td>\n",
       "      <td>1057.260010</td>\n",
       "    </tr>\n",
       "    <tr>\n",
       "      <th>1256</th>\n",
       "      <td>2022-04-08</td>\n",
       "      <td>1048.439941</td>\n",
       "      <td>1022.440002</td>\n",
       "      <td>1043.209961</td>\n",
       "      <td>1025.489990</td>\n",
       "      <td>18293300.0</td>\n",
       "      <td>1025.489990</td>\n",
       "    </tr>\n",
       "    <tr>\n",
       "      <th>1257</th>\n",
       "      <td>2022-04-11</td>\n",
       "      <td>1008.469971</td>\n",
       "      <td>974.640015</td>\n",
       "      <td>980.400024</td>\n",
       "      <td>975.929993</td>\n",
       "      <td>19785700.0</td>\n",
       "      <td>975.929993</td>\n",
       "    </tr>\n",
       "    <tr>\n",
       "      <th>1258</th>\n",
       "      <td>2022-04-12</td>\n",
       "      <td>1021.190002</td>\n",
       "      <td>976.599976</td>\n",
       "      <td>997.640015</td>\n",
       "      <td>986.950012</td>\n",
       "      <td>21948800.0</td>\n",
       "      <td>986.950012</td>\n",
       "    </tr>\n",
       "  </tbody>\n",
       "</table>\n",
       "<p>1259 rows × 7 columns</p>\n",
       "</div>"
      ],
      "text/plain": [
       "           Date         High          Low         Open        Close  \\\n",
       "0    2017-04-13    61.478001    59.060001    59.340000    60.799999   \n",
       "1    2017-04-17    60.799999    59.736000    60.540001    60.287998   \n",
       "2    2017-04-18    60.167999    59.580002    59.939999    60.049999   \n",
       "3    2017-04-19    61.324001    60.422001    60.492001    61.104000   \n",
       "4    2017-04-20    61.830002    60.046001    61.301998    60.501999   \n",
       "...         ...          ...          ...          ...          ...   \n",
       "1254 2022-04-06  1079.000000  1027.699951  1073.469971  1045.760010   \n",
       "1255 2022-04-07  1076.589966  1021.539978  1052.390015  1057.260010   \n",
       "1256 2022-04-08  1048.439941  1022.440002  1043.209961  1025.489990   \n",
       "1257 2022-04-11  1008.469971   974.640015   980.400024   975.929993   \n",
       "1258 2022-04-12  1021.190002   976.599976   997.640015   986.950012   \n",
       "\n",
       "          Volume    Adj Close  \n",
       "0     46423000.0    60.799999  \n",
       "1     20693500.0    60.287998  \n",
       "2     15178500.0    60.049999  \n",
       "3     19490000.0    61.104000  \n",
       "4     30747000.0    60.501999  \n",
       "...          ...          ...  \n",
       "1254  29782800.0  1045.760010  \n",
       "1255  26482400.0  1057.260010  \n",
       "1256  18293300.0  1025.489990  \n",
       "1257  19785700.0   975.929993  \n",
       "1258  21948800.0   986.950012  \n",
       "\n",
       "[1259 rows x 7 columns]"
      ]
     },
     "execution_count": 27,
     "metadata": {},
     "output_type": "execute_result"
    }
   ],
   "source": [
    "df_tesla"
   ]
  },
  {
   "cell_type": "code",
   "execution_count": 39,
   "id": "a865960e",
   "metadata": {},
   "outputs": [
    {
     "data": {
      "text/html": [
       "<div>\n",
       "<style scoped>\n",
       "    .dataframe tbody tr th:only-of-type {\n",
       "        vertical-align: middle;\n",
       "    }\n",
       "\n",
       "    .dataframe tbody tr th {\n",
       "        vertical-align: top;\n",
       "    }\n",
       "\n",
       "    .dataframe thead th {\n",
       "        text-align: right;\n",
       "    }\n",
       "</style>\n",
       "<table border=\"1\" class=\"dataframe\">\n",
       "  <thead>\n",
       "    <tr style=\"text-align: right;\">\n",
       "      <th></th>\n",
       "      <th>High</th>\n",
       "      <th>Low</th>\n",
       "      <th>Open</th>\n",
       "      <th>Close</th>\n",
       "      <th>Volume</th>\n",
       "      <th>Adj Close</th>\n",
       "    </tr>\n",
       "    <tr>\n",
       "      <th>Date</th>\n",
       "      <th></th>\n",
       "      <th></th>\n",
       "      <th></th>\n",
       "      <th></th>\n",
       "      <th></th>\n",
       "      <th></th>\n",
       "    </tr>\n",
       "  </thead>\n",
       "  <tbody>\n",
       "    <tr>\n",
       "      <th>2017-02-27</th>\n",
       "      <td>49.672001</td>\n",
       "      <td>48.402000</td>\n",
       "      <td>49.633999</td>\n",
       "      <td>49.245998</td>\n",
       "      <td>57304000.0</td>\n",
       "      <td>49.245998</td>\n",
       "    </tr>\n",
       "    <tr>\n",
       "      <th>2017-02-28</th>\n",
       "      <td>50.200001</td>\n",
       "      <td>48.779999</td>\n",
       "      <td>48.838001</td>\n",
       "      <td>49.998001</td>\n",
       "      <td>30390500.0</td>\n",
       "      <td>49.998001</td>\n",
       "    </tr>\n",
       "    <tr>\n",
       "      <th>2017-03-01</th>\n",
       "      <td>50.970001</td>\n",
       "      <td>49.821999</td>\n",
       "      <td>50.835999</td>\n",
       "      <td>50.004002</td>\n",
       "      <td>24047500.0</td>\n",
       "      <td>50.004002</td>\n",
       "    </tr>\n",
       "    <tr>\n",
       "      <th>2017-03-02</th>\n",
       "      <td>50.655998</td>\n",
       "      <td>49.653999</td>\n",
       "      <td>49.942001</td>\n",
       "      <td>50.096001</td>\n",
       "      <td>16759000.0</td>\n",
       "      <td>50.096001</td>\n",
       "    </tr>\n",
       "    <tr>\n",
       "      <th>2017-03-03</th>\n",
       "      <td>50.380001</td>\n",
       "      <td>49.799999</td>\n",
       "      <td>50.147999</td>\n",
       "      <td>50.313999</td>\n",
       "      <td>14597000.0</td>\n",
       "      <td>50.313999</td>\n",
       "    </tr>\n",
       "    <tr>\n",
       "      <th>...</th>\n",
       "      <td>...</td>\n",
       "      <td>...</td>\n",
       "      <td>...</td>\n",
       "      <td>...</td>\n",
       "      <td>...</td>\n",
       "      <td>...</td>\n",
       "    </tr>\n",
       "    <tr>\n",
       "      <th>2022-02-17</th>\n",
       "      <td>918.500000</td>\n",
       "      <td>874.099976</td>\n",
       "      <td>913.260010</td>\n",
       "      <td>876.349976</td>\n",
       "      <td>18392800.0</td>\n",
       "      <td>876.349976</td>\n",
       "    </tr>\n",
       "    <tr>\n",
       "      <th>2022-02-18</th>\n",
       "      <td>886.869995</td>\n",
       "      <td>837.609985</td>\n",
       "      <td>886.000000</td>\n",
       "      <td>856.979980</td>\n",
       "      <td>22710500.0</td>\n",
       "      <td>856.979980</td>\n",
       "    </tr>\n",
       "    <tr>\n",
       "      <th>2022-02-22</th>\n",
       "      <td>856.729980</td>\n",
       "      <td>801.099976</td>\n",
       "      <td>834.130005</td>\n",
       "      <td>821.530029</td>\n",
       "      <td>27762700.0</td>\n",
       "      <td>821.530029</td>\n",
       "    </tr>\n",
       "    <tr>\n",
       "      <th>2022-02-23</th>\n",
       "      <td>835.299988</td>\n",
       "      <td>760.559998</td>\n",
       "      <td>830.429993</td>\n",
       "      <td>764.039978</td>\n",
       "      <td>31752300.0</td>\n",
       "      <td>764.039978</td>\n",
       "    </tr>\n",
       "    <tr>\n",
       "      <th>2022-02-24</th>\n",
       "      <td>802.479980</td>\n",
       "      <td>700.000000</td>\n",
       "      <td>700.390015</td>\n",
       "      <td>800.770020</td>\n",
       "      <td>44876700.0</td>\n",
       "      <td>800.770020</td>\n",
       "    </tr>\n",
       "  </tbody>\n",
       "</table>\n",
       "<p>1259 rows × 6 columns</p>\n",
       "</div>"
      ],
      "text/plain": [
       "                  High         Low        Open       Close      Volume  \\\n",
       "Date                                                                     \n",
       "2017-02-27   49.672001   48.402000   49.633999   49.245998  57304000.0   \n",
       "2017-02-28   50.200001   48.779999   48.838001   49.998001  30390500.0   \n",
       "2017-03-01   50.970001   49.821999   50.835999   50.004002  24047500.0   \n",
       "2017-03-02   50.655998   49.653999   49.942001   50.096001  16759000.0   \n",
       "2017-03-03   50.380001   49.799999   50.147999   50.313999  14597000.0   \n",
       "...                ...         ...         ...         ...         ...   \n",
       "2022-02-17  918.500000  874.099976  913.260010  876.349976  18392800.0   \n",
       "2022-02-18  886.869995  837.609985  886.000000  856.979980  22710500.0   \n",
       "2022-02-22  856.729980  801.099976  834.130005  821.530029  27762700.0   \n",
       "2022-02-23  835.299988  760.559998  830.429993  764.039978  31752300.0   \n",
       "2022-02-24  802.479980  700.000000  700.390015  800.770020  44876700.0   \n",
       "\n",
       "             Adj Close  \n",
       "Date                    \n",
       "2017-02-27   49.245998  \n",
       "2017-02-28   49.998001  \n",
       "2017-03-01   50.004002  \n",
       "2017-03-02   50.096001  \n",
       "2017-03-03   50.313999  \n",
       "...                ...  \n",
       "2022-02-17  876.349976  \n",
       "2022-02-18  856.979980  \n",
       "2022-02-22  821.530029  \n",
       "2022-02-23  764.039978  \n",
       "2022-02-24  800.770020  \n",
       "\n",
       "[1259 rows x 6 columns]"
      ]
     },
     "execution_count": 39,
     "metadata": {},
     "output_type": "execute_result"
    }
   ],
   "source": [
    "df_tesla.set_index('Date',drop=True) #date ko wapas index banane k liye"
   ]
  },
  {
   "cell_type": "code",
   "execution_count": 28,
   "id": "0b2a719a",
   "metadata": {},
   "outputs": [],
   "source": [
    "df_tesla=df_tesla.set_index('Date',drop=True)"
   ]
  },
  {
   "cell_type": "code",
   "execution_count": 29,
   "id": "de927af0",
   "metadata": {},
   "outputs": [
    {
     "data": {
      "text/html": [
       "<div>\n",
       "<style scoped>\n",
       "    .dataframe tbody tr th:only-of-type {\n",
       "        vertical-align: middle;\n",
       "    }\n",
       "\n",
       "    .dataframe tbody tr th {\n",
       "        vertical-align: top;\n",
       "    }\n",
       "\n",
       "    .dataframe thead th {\n",
       "        text-align: right;\n",
       "    }\n",
       "</style>\n",
       "<table border=\"1\" class=\"dataframe\">\n",
       "  <thead>\n",
       "    <tr style=\"text-align: right;\">\n",
       "      <th></th>\n",
       "      <th>High</th>\n",
       "      <th>Low</th>\n",
       "      <th>Open</th>\n",
       "      <th>Close</th>\n",
       "      <th>Volume</th>\n",
       "      <th>Adj Close</th>\n",
       "    </tr>\n",
       "    <tr>\n",
       "      <th>Date</th>\n",
       "      <th></th>\n",
       "      <th></th>\n",
       "      <th></th>\n",
       "      <th></th>\n",
       "      <th></th>\n",
       "      <th></th>\n",
       "    </tr>\n",
       "  </thead>\n",
       "  <tbody>\n",
       "    <tr>\n",
       "      <th>2017-04-13</th>\n",
       "      <td>61.478001</td>\n",
       "      <td>59.060001</td>\n",
       "      <td>59.340000</td>\n",
       "      <td>60.799999</td>\n",
       "      <td>46423000.0</td>\n",
       "      <td>60.799999</td>\n",
       "    </tr>\n",
       "    <tr>\n",
       "      <th>2017-04-17</th>\n",
       "      <td>60.799999</td>\n",
       "      <td>59.736000</td>\n",
       "      <td>60.540001</td>\n",
       "      <td>60.287998</td>\n",
       "      <td>20693500.0</td>\n",
       "      <td>60.287998</td>\n",
       "    </tr>\n",
       "    <tr>\n",
       "      <th>2017-04-18</th>\n",
       "      <td>60.167999</td>\n",
       "      <td>59.580002</td>\n",
       "      <td>59.939999</td>\n",
       "      <td>60.049999</td>\n",
       "      <td>15178500.0</td>\n",
       "      <td>60.049999</td>\n",
       "    </tr>\n",
       "    <tr>\n",
       "      <th>2017-04-19</th>\n",
       "      <td>61.324001</td>\n",
       "      <td>60.422001</td>\n",
       "      <td>60.492001</td>\n",
       "      <td>61.104000</td>\n",
       "      <td>19490000.0</td>\n",
       "      <td>61.104000</td>\n",
       "    </tr>\n",
       "    <tr>\n",
       "      <th>2017-04-20</th>\n",
       "      <td>61.830002</td>\n",
       "      <td>60.046001</td>\n",
       "      <td>61.301998</td>\n",
       "      <td>60.501999</td>\n",
       "      <td>30747000.0</td>\n",
       "      <td>60.501999</td>\n",
       "    </tr>\n",
       "  </tbody>\n",
       "</table>\n",
       "</div>"
      ],
      "text/plain": [
       "                 High        Low       Open      Close      Volume  Adj Close\n",
       "Date                                                                         \n",
       "2017-04-13  61.478001  59.060001  59.340000  60.799999  46423000.0  60.799999\n",
       "2017-04-17  60.799999  59.736000  60.540001  60.287998  20693500.0  60.287998\n",
       "2017-04-18  60.167999  59.580002  59.939999  60.049999  15178500.0  60.049999\n",
       "2017-04-19  61.324001  60.422001  60.492001  61.104000  19490000.0  61.104000\n",
       "2017-04-20  61.830002  60.046001  61.301998  60.501999  30747000.0  60.501999"
      ]
     },
     "execution_count": 29,
     "metadata": {},
     "output_type": "execute_result"
    }
   ],
   "source": [
    "df_tesla.head()"
   ]
  },
  {
   "cell_type": "code",
   "execution_count": 30,
   "id": "13a57a80",
   "metadata": {},
   "outputs": [],
   "source": [
    "# datetime\n",
    "\n",
    "from datetime import datetime"
   ]
  },
  {
   "cell_type": "code",
   "execution_count": 33,
   "id": "706351dc",
   "metadata": {},
   "outputs": [
    {
     "data": {
      "text/plain": [
       "datetime.datetime(2022, 4, 13, 15, 3, 18, 788839)"
      ]
     },
     "execution_count": 33,
     "metadata": {},
     "output_type": "execute_result"
    }
   ],
   "source": [
    "datetime.now()"
   ]
  },
  {
   "cell_type": "code",
   "execution_count": 34,
   "id": "d81d2bc4",
   "metadata": {},
   "outputs": [],
   "source": [
    "def addkrro(num1,num2):\n",
    "    return num1+num2"
   ]
  },
  {
   "cell_type": "code",
   "execution_count": 35,
   "id": "168b541b",
   "metadata": {},
   "outputs": [],
   "source": [
    "def add_num(num1,num2):\n",
    "    return num1+num2"
   ]
  },
  {
   "cell_type": "code",
   "execution_count": 36,
   "id": "9adeccdc",
   "metadata": {},
   "outputs": [
    {
     "name": "stdout",
     "output_type": "stream",
     "text": [
      "0:00:00\n"
     ]
    }
   ],
   "source": [
    "start_time=datetime.now()\n",
    "\n",
    "\n",
    "num1=20\n",
    "num2=30\n",
    "\n",
    "\n",
    "\n",
    "add_num(num1,num2)\n",
    "end_time=datetime.now()\n",
    "print(end_time-start_time)"
   ]
  },
  {
   "cell_type": "code",
   "execution_count": 39,
   "id": "0ed8299a",
   "metadata": {},
   "outputs": [],
   "source": [
    "date=datetime(2021,11,21)"
   ]
  },
  {
   "cell_type": "code",
   "execution_count": 40,
   "id": "ad29ac36",
   "metadata": {},
   "outputs": [
    {
     "data": {
      "text/plain": [
       "datetime.date(2021, 11, 21)"
      ]
     },
     "execution_count": 40,
     "metadata": {},
     "output_type": "execute_result"
    }
   ],
   "source": [
    "date.date()"
   ]
  },
  {
   "cell_type": "code",
   "execution_count": 41,
   "id": "680ba9f8",
   "metadata": {},
   "outputs": [
    {
     "data": {
      "text/plain": [
       "datetime.datetime(2021, 11, 21, 0, 0)"
      ]
     },
     "execution_count": 41,
     "metadata": {},
     "output_type": "execute_result"
    }
   ],
   "source": [
    "date"
   ]
  },
  {
   "cell_type": "code",
   "execution_count": 42,
   "id": "02090b05",
   "metadata": {},
   "outputs": [
    {
     "data": {
      "text/plain": [
       "21"
      ]
     },
     "execution_count": 42,
     "metadata": {},
     "output_type": "execute_result"
    }
   ],
   "source": [
    "date.day"
   ]
  },
  {
   "cell_type": "code",
   "execution_count": 43,
   "id": "e6dc2fb3",
   "metadata": {},
   "outputs": [
    {
     "data": {
      "text/plain": [
       "2021"
      ]
     },
     "execution_count": 43,
     "metadata": {},
     "output_type": "execute_result"
    }
   ],
   "source": [
    "date.year"
   ]
  },
  {
   "cell_type": "code",
   "execution_count": 44,
   "id": "45e346f0",
   "metadata": {},
   "outputs": [
    {
     "data": {
      "text/plain": [
       "11"
      ]
     },
     "execution_count": 44,
     "metadata": {},
     "output_type": "execute_result"
    }
   ],
   "source": [
    "date.month"
   ]
  },
  {
   "cell_type": "markdown",
   "id": "a310ca6c",
   "metadata": {},
   "source": [
    "# Time Resampling"
   ]
  },
  {
   "cell_type": "code",
   "execution_count": 51,
   "id": "188cca17",
   "metadata": {},
   "outputs": [
    {
     "data": {
      "text/html": [
       "<div>\n",
       "<style scoped>\n",
       "    .dataframe tbody tr th:only-of-type {\n",
       "        vertical-align: middle;\n",
       "    }\n",
       "\n",
       "    .dataframe tbody tr th {\n",
       "        vertical-align: top;\n",
       "    }\n",
       "\n",
       "    .dataframe thead th {\n",
       "        text-align: right;\n",
       "    }\n",
       "</style>\n",
       "<table border=\"1\" class=\"dataframe\">\n",
       "  <thead>\n",
       "    <tr style=\"text-align: right;\">\n",
       "      <th></th>\n",
       "      <th>High</th>\n",
       "      <th>Low</th>\n",
       "      <th>Open</th>\n",
       "      <th>Close</th>\n",
       "      <th>Volume</th>\n",
       "      <th>Adj Close</th>\n",
       "    </tr>\n",
       "    <tr>\n",
       "      <th>Date</th>\n",
       "      <th></th>\n",
       "      <th></th>\n",
       "      <th></th>\n",
       "      <th></th>\n",
       "      <th></th>\n",
       "      <th></th>\n",
       "    </tr>\n",
       "  </thead>\n",
       "  <tbody>\n",
       "    <tr>\n",
       "      <th>2017-02-27</th>\n",
       "      <td>49.672001</td>\n",
       "      <td>48.402000</td>\n",
       "      <td>49.633999</td>\n",
       "      <td>49.245998</td>\n",
       "      <td>57304000.0</td>\n",
       "      <td>49.245998</td>\n",
       "    </tr>\n",
       "    <tr>\n",
       "      <th>2017-02-28</th>\n",
       "      <td>50.200001</td>\n",
       "      <td>48.779999</td>\n",
       "      <td>48.838001</td>\n",
       "      <td>49.998001</td>\n",
       "      <td>30390500.0</td>\n",
       "      <td>49.998001</td>\n",
       "    </tr>\n",
       "    <tr>\n",
       "      <th>2017-03-01</th>\n",
       "      <td>50.970001</td>\n",
       "      <td>49.821999</td>\n",
       "      <td>50.835999</td>\n",
       "      <td>50.004002</td>\n",
       "      <td>24047500.0</td>\n",
       "      <td>50.004002</td>\n",
       "    </tr>\n",
       "    <tr>\n",
       "      <th>2017-03-02</th>\n",
       "      <td>50.655998</td>\n",
       "      <td>49.653999</td>\n",
       "      <td>49.942001</td>\n",
       "      <td>50.096001</td>\n",
       "      <td>16759000.0</td>\n",
       "      <td>50.096001</td>\n",
       "    </tr>\n",
       "    <tr>\n",
       "      <th>2017-03-03</th>\n",
       "      <td>50.380001</td>\n",
       "      <td>49.799999</td>\n",
       "      <td>50.147999</td>\n",
       "      <td>50.313999</td>\n",
       "      <td>14597000.0</td>\n",
       "      <td>50.313999</td>\n",
       "    </tr>\n",
       "    <tr>\n",
       "      <th>...</th>\n",
       "      <td>...</td>\n",
       "      <td>...</td>\n",
       "      <td>...</td>\n",
       "      <td>...</td>\n",
       "      <td>...</td>\n",
       "      <td>...</td>\n",
       "    </tr>\n",
       "    <tr>\n",
       "      <th>2022-02-17</th>\n",
       "      <td>918.500000</td>\n",
       "      <td>874.099976</td>\n",
       "      <td>913.260010</td>\n",
       "      <td>876.349976</td>\n",
       "      <td>18392800.0</td>\n",
       "      <td>876.349976</td>\n",
       "    </tr>\n",
       "    <tr>\n",
       "      <th>2022-02-18</th>\n",
       "      <td>886.869995</td>\n",
       "      <td>837.609985</td>\n",
       "      <td>886.000000</td>\n",
       "      <td>856.979980</td>\n",
       "      <td>22710500.0</td>\n",
       "      <td>856.979980</td>\n",
       "    </tr>\n",
       "    <tr>\n",
       "      <th>2022-02-22</th>\n",
       "      <td>856.729980</td>\n",
       "      <td>801.099976</td>\n",
       "      <td>834.130005</td>\n",
       "      <td>821.530029</td>\n",
       "      <td>27762700.0</td>\n",
       "      <td>821.530029</td>\n",
       "    </tr>\n",
       "    <tr>\n",
       "      <th>2022-02-23</th>\n",
       "      <td>835.299988</td>\n",
       "      <td>760.559998</td>\n",
       "      <td>830.429993</td>\n",
       "      <td>764.039978</td>\n",
       "      <td>31752300.0</td>\n",
       "      <td>764.039978</td>\n",
       "    </tr>\n",
       "    <tr>\n",
       "      <th>2022-02-24</th>\n",
       "      <td>802.479980</td>\n",
       "      <td>700.000000</td>\n",
       "      <td>700.390015</td>\n",
       "      <td>800.770020</td>\n",
       "      <td>44876700.0</td>\n",
       "      <td>800.770020</td>\n",
       "    </tr>\n",
       "  </tbody>\n",
       "</table>\n",
       "<p>1259 rows × 6 columns</p>\n",
       "</div>"
      ],
      "text/plain": [
       "                  High         Low        Open       Close      Volume  \\\n",
       "Date                                                                     \n",
       "2017-02-27   49.672001   48.402000   49.633999   49.245998  57304000.0   \n",
       "2017-02-28   50.200001   48.779999   48.838001   49.998001  30390500.0   \n",
       "2017-03-01   50.970001   49.821999   50.835999   50.004002  24047500.0   \n",
       "2017-03-02   50.655998   49.653999   49.942001   50.096001  16759000.0   \n",
       "2017-03-03   50.380001   49.799999   50.147999   50.313999  14597000.0   \n",
       "...                ...         ...         ...         ...         ...   \n",
       "2022-02-17  918.500000  874.099976  913.260010  876.349976  18392800.0   \n",
       "2022-02-18  886.869995  837.609985  886.000000  856.979980  22710500.0   \n",
       "2022-02-22  856.729980  801.099976  834.130005  821.530029  27762700.0   \n",
       "2022-02-23  835.299988  760.559998  830.429993  764.039978  31752300.0   \n",
       "2022-02-24  802.479980  700.000000  700.390015  800.770020  44876700.0   \n",
       "\n",
       "             Adj Close  \n",
       "Date                    \n",
       "2017-02-27   49.245998  \n",
       "2017-02-28   49.998001  \n",
       "2017-03-01   50.004002  \n",
       "2017-03-02   50.096001  \n",
       "2017-03-03   50.313999  \n",
       "...                ...  \n",
       "2022-02-17  876.349976  \n",
       "2022-02-18  856.979980  \n",
       "2022-02-22  821.530029  \n",
       "2022-02-23  764.039978  \n",
       "2022-02-24  800.770020  \n",
       "\n",
       "[1259 rows x 6 columns]"
      ]
     },
     "execution_count": 51,
     "metadata": {},
     "output_type": "execute_result"
    }
   ],
   "source": [
    "df_tesla"
   ]
  },
  {
   "cell_type": "code",
   "execution_count": null,
   "id": "f112701f",
   "metadata": {},
   "outputs": [],
   "source": [
    "# resample - "
   ]
  },
  {
   "cell_type": "code",
   "execution_count": 45,
   "id": "f0bd2234",
   "metadata": {},
   "outputs": [
    {
     "data": {
      "text/plain": [
       "<pandas.core.resample.DatetimeIndexResampler object at 0x000002705B9EB8E0>"
      ]
     },
     "execution_count": 45,
     "metadata": {},
     "output_type": "execute_result"
    }
   ],
   "source": [
    "df_tesla.resample(rule='A')"
   ]
  },
  {
   "cell_type": "code",
   "execution_count": 53,
   "id": "a6a2e6ee",
   "metadata": {},
   "outputs": [
    {
     "data": {
      "text/html": [
       "<div>\n",
       "<style scoped>\n",
       "    .dataframe tbody tr th:only-of-type {\n",
       "        vertical-align: middle;\n",
       "    }\n",
       "\n",
       "    .dataframe tbody tr th {\n",
       "        vertical-align: top;\n",
       "    }\n",
       "\n",
       "    .dataframe thead th {\n",
       "        text-align: right;\n",
       "    }\n",
       "</style>\n",
       "<table border=\"1\" class=\"dataframe\">\n",
       "  <thead>\n",
       "    <tr style=\"text-align: right;\">\n",
       "      <th></th>\n",
       "      <th>High</th>\n",
       "      <th>Low</th>\n",
       "      <th>Open</th>\n",
       "      <th>Close</th>\n",
       "      <th>Volume</th>\n",
       "      <th>Adj Close</th>\n",
       "    </tr>\n",
       "    <tr>\n",
       "      <th>Date</th>\n",
       "      <th></th>\n",
       "      <th></th>\n",
       "      <th></th>\n",
       "      <th></th>\n",
       "      <th></th>\n",
       "      <th></th>\n",
       "    </tr>\n",
       "  </thead>\n",
       "  <tbody>\n",
       "    <tr>\n",
       "      <th>2017-12-31</th>\n",
       "      <td>49.299999</td>\n",
       "      <td>48.402000</td>\n",
       "      <td>48.838001</td>\n",
       "      <td>48.737999</td>\n",
       "      <td>14597000.0</td>\n",
       "      <td>48.737999</td>\n",
       "    </tr>\n",
       "    <tr>\n",
       "      <th>2018-12-31</th>\n",
       "      <td>52.066002</td>\n",
       "      <td>48.917999</td>\n",
       "      <td>50.556000</td>\n",
       "      <td>50.112000</td>\n",
       "      <td>15403500.0</td>\n",
       "      <td>50.112000</td>\n",
       "    </tr>\n",
       "    <tr>\n",
       "      <th>2019-12-31</th>\n",
       "      <td>37.335999</td>\n",
       "      <td>35.397999</td>\n",
       "      <td>36.220001</td>\n",
       "      <td>35.793999</td>\n",
       "      <td>12328000.0</td>\n",
       "      <td>35.793999</td>\n",
       "    </tr>\n",
       "    <tr>\n",
       "      <th>2020-12-31</th>\n",
       "      <td>80.972000</td>\n",
       "      <td>70.101997</td>\n",
       "      <td>74.940002</td>\n",
       "      <td>72.244003</td>\n",
       "      <td>17357700.0</td>\n",
       "      <td>72.244003</td>\n",
       "    </tr>\n",
       "    <tr>\n",
       "      <th>2021-12-31</th>\n",
       "      <td>566.210022</td>\n",
       "      <td>539.489990</td>\n",
       "      <td>552.549988</td>\n",
       "      <td>563.000000</td>\n",
       "      <td>9800600.0</td>\n",
       "      <td>563.000000</td>\n",
       "    </tr>\n",
       "    <tr>\n",
       "      <th>2022-12-31</th>\n",
       "      <td>802.479980</td>\n",
       "      <td>700.000000</td>\n",
       "      <td>700.390015</td>\n",
       "      <td>764.039978</td>\n",
       "      <td>16909700.0</td>\n",
       "      <td>764.039978</td>\n",
       "    </tr>\n",
       "  </tbody>\n",
       "</table>\n",
       "</div>"
      ],
      "text/plain": [
       "                  High         Low        Open       Close      Volume  \\\n",
       "Date                                                                     \n",
       "2017-12-31   49.299999   48.402000   48.838001   48.737999  14597000.0   \n",
       "2018-12-31   52.066002   48.917999   50.556000   50.112000  15403500.0   \n",
       "2019-12-31   37.335999   35.397999   36.220001   35.793999  12328000.0   \n",
       "2020-12-31   80.972000   70.101997   74.940002   72.244003  17357700.0   \n",
       "2021-12-31  566.210022  539.489990  552.549988  563.000000   9800600.0   \n",
       "2022-12-31  802.479980  700.000000  700.390015  764.039978  16909700.0   \n",
       "\n",
       "             Adj Close  \n",
       "Date                    \n",
       "2017-12-31   48.737999  \n",
       "2018-12-31   50.112000  \n",
       "2019-12-31   35.793999  \n",
       "2020-12-31   72.244003  \n",
       "2021-12-31  563.000000  \n",
       "2022-12-31  764.039978  "
      ]
     },
     "execution_count": 53,
     "metadata": {},
     "output_type": "execute_result"
    }
   ],
   "source": [
    "df_tesla.resample(rule='A').min() #min is aggregate fun #so its gng 4 those specific year"
   ]
  },
  {
   "cell_type": "code",
   "execution_count": 46,
   "id": "cc8df734",
   "metadata": {},
   "outputs": [
    {
     "data": {
      "text/html": [
       "<div>\n",
       "<style scoped>\n",
       "    .dataframe tbody tr th:only-of-type {\n",
       "        vertical-align: middle;\n",
       "    }\n",
       "\n",
       "    .dataframe tbody tr th {\n",
       "        vertical-align: top;\n",
       "    }\n",
       "\n",
       "    .dataframe thead th {\n",
       "        text-align: right;\n",
       "    }\n",
       "</style>\n",
       "<table border=\"1\" class=\"dataframe\">\n",
       "  <thead>\n",
       "    <tr style=\"text-align: right;\">\n",
       "      <th></th>\n",
       "      <th>High</th>\n",
       "      <th>Low</th>\n",
       "      <th>Open</th>\n",
       "      <th>Close</th>\n",
       "      <th>Volume</th>\n",
       "      <th>Adj Close</th>\n",
       "    </tr>\n",
       "    <tr>\n",
       "      <th>Date</th>\n",
       "      <th></th>\n",
       "      <th></th>\n",
       "      <th></th>\n",
       "      <th></th>\n",
       "      <th></th>\n",
       "      <th></th>\n",
       "    </tr>\n",
       "  </thead>\n",
       "  <tbody>\n",
       "    <tr>\n",
       "      <th>2017-12-31</th>\n",
       "      <td>77.921997</td>\n",
       "      <td>75.870003</td>\n",
       "      <td>77.337997</td>\n",
       "      <td>77.000000</td>\n",
       "      <td>98957000.0</td>\n",
       "      <td>77.000000</td>\n",
       "    </tr>\n",
       "    <tr>\n",
       "      <th>2018-12-31</th>\n",
       "      <td>77.491997</td>\n",
       "      <td>73.424004</td>\n",
       "      <td>75.000000</td>\n",
       "      <td>75.914001</td>\n",
       "      <td>168248500.0</td>\n",
       "      <td>75.914001</td>\n",
       "    </tr>\n",
       "    <tr>\n",
       "      <th>2019-12-31</th>\n",
       "      <td>87.061996</td>\n",
       "      <td>85.269997</td>\n",
       "      <td>87.000000</td>\n",
       "      <td>86.188004</td>\n",
       "      <td>150030500.0</td>\n",
       "      <td>86.188004</td>\n",
       "    </tr>\n",
       "    <tr>\n",
       "      <th>2020-12-31</th>\n",
       "      <td>718.719971</td>\n",
       "      <td>691.119995</td>\n",
       "      <td>699.989990</td>\n",
       "      <td>705.669983</td>\n",
       "      <td>304694000.0</td>\n",
       "      <td>705.669983</td>\n",
       "    </tr>\n",
       "    <tr>\n",
       "      <th>2021-12-31</th>\n",
       "      <td>1243.489990</td>\n",
       "      <td>1217.000000</td>\n",
       "      <td>1234.410034</td>\n",
       "      <td>1229.910034</td>\n",
       "      <td>89396500.0</td>\n",
       "      <td>1229.910034</td>\n",
       "    </tr>\n",
       "    <tr>\n",
       "      <th>2022-12-31</th>\n",
       "      <td>1208.000000</td>\n",
       "      <td>1136.040039</td>\n",
       "      <td>1189.550049</td>\n",
       "      <td>1199.780029</td>\n",
       "      <td>50521900.0</td>\n",
       "      <td>1199.780029</td>\n",
       "    </tr>\n",
       "  </tbody>\n",
       "</table>\n",
       "</div>"
      ],
      "text/plain": [
       "                   High          Low         Open        Close       Volume  \\\n",
       "Date                                                                          \n",
       "2017-12-31    77.921997    75.870003    77.337997    77.000000   98957000.0   \n",
       "2018-12-31    77.491997    73.424004    75.000000    75.914001  168248500.0   \n",
       "2019-12-31    87.061996    85.269997    87.000000    86.188004  150030500.0   \n",
       "2020-12-31   718.719971   691.119995   699.989990   705.669983  304694000.0   \n",
       "2021-12-31  1243.489990  1217.000000  1234.410034  1229.910034   89396500.0   \n",
       "2022-12-31  1208.000000  1136.040039  1189.550049  1199.780029   50521900.0   \n",
       "\n",
       "              Adj Close  \n",
       "Date                     \n",
       "2017-12-31    77.000000  \n",
       "2018-12-31    75.914001  \n",
       "2019-12-31    86.188004  \n",
       "2020-12-31   705.669983  \n",
       "2021-12-31  1229.910034  \n",
       "2022-12-31  1199.780029  "
      ]
     },
     "execution_count": 46,
     "metadata": {},
     "output_type": "execute_result"
    }
   ],
   "source": [
    "df_tesla.resample(rule='A').max()"
   ]
  },
  {
   "cell_type": "code",
   "execution_count": 47,
   "id": "67844b68",
   "metadata": {},
   "outputs": [
    {
     "data": {
      "text/plain": [
       "<AxesSubplot:xlabel='Date'>"
      ]
     },
     "execution_count": 47,
     "metadata": {},
     "output_type": "execute_result"
    },
    {
     "data": {
      "image/png": "[encoded data removed]",
      "text/plain": [
       "<Figure size 432x288 with 1 Axes>"
      ]
     },
     "metadata": {
      "needs_background": "light"
     },
     "output_type": "display_data"
    }
   ],
   "source": [
    "df_tesla.resample(rule='A').max()['Open'].plot()"
   ]
  },
  {
   "cell_type": "code",
   "execution_count": null,
   "id": "eec12c1b",
   "metadata": {},
   "outputs": [],
   "source": [
    "# rule A - year end freq\n"
   ]
  },
  {
   "cell_type": "code",
   "execution_count": 55,
   "id": "adeb3b11",
   "metadata": {},
   "outputs": [
    {
     "data": {
      "text/plain": [
       "<AxesSubplot:xlabel='Date'>"
      ]
     },
     "execution_count": 55,
     "metadata": {},
     "output_type": "execute_result"
    },
    {
     "data": {
      "image/png": "[encoded data removed]",
      "text/plain": [
       "<Figure size 432x288 with 1 Axes>"
      ]
     },
     "metadata": {
      "needs_background": "light"
     },
     "output_type": "display_data"
    }
   ],
   "source": [
    "# year and freq\n",
    "\n",
    "\n",
    "df_tesla.resample(rule='A').max()['Open'].plot()"
   ]
  },
  {
   "cell_type": "code",
   "execution_count": 58,
   "id": "1262fb73",
   "metadata": {},
   "outputs": [
    {
     "data": {
      "text/plain": [
       "<AxesSubplot:xlabel='Date'>"
      ]
     },
     "execution_count": 58,
     "metadata": {},
     "output_type": "execute_result"
    },
    {
     "data": {
      "image/png": "[encoded data removed]",
      "text/plain": [
       "<Figure size 432x288 with 1 Axes>"
      ]
     },
     "metadata": {
      "needs_background": "light"
     },
     "output_type": "display_data"
    }
   ],
   "source": [
    "#quaterly start frequency\n",
    "\n",
    "\n",
    "\n",
    "df_tesla.resample(rule='QS').max()['High'].plot()\n",
    "\n",
    "# business end -- rule ='BS'"
   ]
  },
  {
   "cell_type": "code",
   "execution_count": 48,
   "id": "4964fca7",
   "metadata": {},
   "outputs": [
    {
     "data": {
      "text/plain": [
       "<AxesSubplot:xlabel='Date'>"
      ]
     },
     "execution_count": 48,
     "metadata": {},
     "output_type": "execute_result"
    },
    {
     "data": {
      "image/png": "[encoded data removed]",
      "text/plain": [
       "<Figure size 432x288 with 1 Axes>"
      ]
     },
     "metadata": {
      "needs_background": "light"
     },
     "output_type": "display_data"
    }
   ],
   "source": [
    "#plotting\n",
    "df_tsla['Open'].resample(rule='BA').mean().plot(kind='bar')"
   ]
  },
  {
   "cell_type": "code",
   "execution_count": 49,
   "id": "24e78751",
   "metadata": {},
   "outputs": [
    {
     "data": {
      "text/plain": [
       "<AxesSubplot:xlabel='Date'>"
      ]
     },
     "execution_count": 49,
     "metadata": {},
     "output_type": "execute_result"
    },
    {
     "data": {
      "image/png": "[encoded data removed]",
      "text/plain": [
       "<Figure size 432x288 with 1 Axes>"
      ]
     },
     "metadata": {
      "needs_background": "light"
     },
     "output_type": "display_data"
    }
   ],
   "source": [
    "#plotting\n",
    "df_tsla['Open'].resample(rule='M').max().plot(kind='bar')"
   ]
  },
  {
   "cell_type": "code",
   "execution_count": 53,
   "id": "92d022a3",
   "metadata": {
    "scrolled": true
   },
   "outputs": [
    {
     "data": {
      "text/plain": [
       "<AxesSubplot:xlabel='Date'>"
      ]
     },
     "execution_count": 53,
     "metadata": {},
     "output_type": "execute_result"
    },
    {
     "data": {
      "image/png": "[encoded data removed]",
      "text/plain": [
       "<Figure size 1080x432 with 1 Axes>"
      ]
     },
     "metadata": {
      "needs_background": "light"
     },
     "output_type": "display_data"
    }
   ],
   "source": [
    "#plotting\n",
    "df_tsla['Open'].resample(rule='M').max().plot(kind='bar',figsize=(15,6))"
   ]
  },
  {
   "cell_type": "code",
   "execution_count": 56,
   "id": "f20f8fa2",
   "metadata": {
    "scrolled": true
   },
   "outputs": [
    {
     "data": {
      "text/plain": [
       "Date\n",
       "2017-04-13    61.478001\n",
       "2017-04-17    60.799999\n",
       "2017-04-18    60.167999\n",
       "2017-04-19    61.324001\n",
       "2017-04-20    61.830002\n",
       "Name: High, dtype: float64"
      ]
     },
     "execution_count": 56,
     "metadata": {},
     "output_type": "execute_result"
    }
   ],
   "source": [
    "df_tsla['High'].head()"
   ]
  },
  {
   "cell_type": "code",
   "execution_count": null,
   "id": "5a0c3109",
   "metadata": {},
   "outputs": [],
   "source": [
    "# rolling ke ander window dena padta hai\n",
    "#eg rolling(10) - rolling of 10 days\n",
    "#axis=0 means for rows , axis=1 means for column "
   ]
  },
  {
   "cell_type": "code",
   "execution_count": 54,
   "id": "bd2e1071",
   "metadata": {},
   "outputs": [
    {
     "data": {
      "text/plain": [
       "Rolling [window=10,center=False,axis=0,method=single]"
      ]
     },
     "execution_count": 54,
     "metadata": {},
     "output_type": "execute_result"
    }
   ],
   "source": [
    "df_tsla['High'].rolling(10)"
   ]
  },
  {
   "cell_type": "code",
   "execution_count": 58,
   "id": "22f0a981",
   "metadata": {},
   "outputs": [
    {
     "data": {
      "text/plain": [
       "Date\n",
       "2017-04-13          NaN\n",
       "2017-04-17          NaN\n",
       "2017-04-18          NaN\n",
       "2017-04-19          NaN\n",
       "2017-04-20          NaN\n",
       "2017-04-21          NaN\n",
       "2017-04-24          NaN\n",
       "2017-04-25          NaN\n",
       "2017-04-26          NaN\n",
       "2017-04-27    61.730400\n",
       "2017-04-28    61.878600\n",
       "2017-05-01    62.343600\n",
       "2017-05-02    62.880000\n",
       "2017-05-03    63.178200\n",
       "2017-05-04    63.150600\n",
       "2017-05-05    63.193600\n",
       "2017-05-08    63.258400\n",
       "2017-05-09    63.418600\n",
       "2017-05-10    63.638599\n",
       "2017-05-11    63.896799\n",
       "Name: High, dtype: float64"
      ]
     },
     "execution_count": 58,
     "metadata": {},
     "output_type": "execute_result"
    }
   ],
   "source": [
    "df_tsla['High'].rolling(10).mean().head(20) #mean() or max()"
   ]
  },
  {
   "cell_type": "code",
   "execution_count": 59,
   "id": "cc817092",
   "metadata": {},
   "outputs": [],
   "source": [
    "df_tsla['Open:30 days rolling']=df_tsla['Open'].rolling(30).mean()"
   ]
  },
  {
   "cell_type": "code",
   "execution_count": 60,
   "id": "74ce34ae",
   "metadata": {},
   "outputs": [
    {
     "data": {
      "text/html": [
       "<div>\n",
       "<style scoped>\n",
       "    .dataframe tbody tr th:only-of-type {\n",
       "        vertical-align: middle;\n",
       "    }\n",
       "\n",
       "    .dataframe tbody tr th {\n",
       "        vertical-align: top;\n",
       "    }\n",
       "\n",
       "    .dataframe thead th {\n",
       "        text-align: right;\n",
       "    }\n",
       "</style>\n",
       "<table border=\"1\" class=\"dataframe\">\n",
       "  <thead>\n",
       "    <tr style=\"text-align: right;\">\n",
       "      <th></th>\n",
       "      <th>High</th>\n",
       "      <th>Low</th>\n",
       "      <th>Open</th>\n",
       "      <th>Close</th>\n",
       "      <th>Volume</th>\n",
       "      <th>Adj Close</th>\n",
       "      <th>Open:30 days rolling</th>\n",
       "    </tr>\n",
       "    <tr>\n",
       "      <th>Date</th>\n",
       "      <th></th>\n",
       "      <th></th>\n",
       "      <th></th>\n",
       "      <th></th>\n",
       "      <th></th>\n",
       "      <th></th>\n",
       "      <th></th>\n",
       "    </tr>\n",
       "  </thead>\n",
       "  <tbody>\n",
       "    <tr>\n",
       "      <th>2017-04-13</th>\n",
       "      <td>61.478001</td>\n",
       "      <td>59.060001</td>\n",
       "      <td>59.340000</td>\n",
       "      <td>60.799999</td>\n",
       "      <td>46423000.0</td>\n",
       "      <td>60.799999</td>\n",
       "      <td>NaN</td>\n",
       "    </tr>\n",
       "    <tr>\n",
       "      <th>2017-04-17</th>\n",
       "      <td>60.799999</td>\n",
       "      <td>59.736000</td>\n",
       "      <td>60.540001</td>\n",
       "      <td>60.287998</td>\n",
       "      <td>20693500.0</td>\n",
       "      <td>60.287998</td>\n",
       "      <td>NaN</td>\n",
       "    </tr>\n",
       "    <tr>\n",
       "      <th>2017-04-18</th>\n",
       "      <td>60.167999</td>\n",
       "      <td>59.580002</td>\n",
       "      <td>59.939999</td>\n",
       "      <td>60.049999</td>\n",
       "      <td>15178500.0</td>\n",
       "      <td>60.049999</td>\n",
       "      <td>NaN</td>\n",
       "    </tr>\n",
       "    <tr>\n",
       "      <th>2017-04-19</th>\n",
       "      <td>61.324001</td>\n",
       "      <td>60.422001</td>\n",
       "      <td>60.492001</td>\n",
       "      <td>61.104000</td>\n",
       "      <td>19490000.0</td>\n",
       "      <td>61.104000</td>\n",
       "      <td>NaN</td>\n",
       "    </tr>\n",
       "    <tr>\n",
       "      <th>2017-04-20</th>\n",
       "      <td>61.830002</td>\n",
       "      <td>60.046001</td>\n",
       "      <td>61.301998</td>\n",
       "      <td>60.501999</td>\n",
       "      <td>30747000.0</td>\n",
       "      <td>60.501999</td>\n",
       "      <td>NaN</td>\n",
       "    </tr>\n",
       "  </tbody>\n",
       "</table>\n",
       "</div>"
      ],
      "text/plain": [
       "                 High        Low       Open      Close      Volume  Adj Close  \\\n",
       "Date                                                                            \n",
       "2017-04-13  61.478001  59.060001  59.340000  60.799999  46423000.0  60.799999   \n",
       "2017-04-17  60.799999  59.736000  60.540001  60.287998  20693500.0  60.287998   \n",
       "2017-04-18  60.167999  59.580002  59.939999  60.049999  15178500.0  60.049999   \n",
       "2017-04-19  61.324001  60.422001  60.492001  61.104000  19490000.0  61.104000   \n",
       "2017-04-20  61.830002  60.046001  61.301998  60.501999  30747000.0  60.501999   \n",
       "\n",
       "            Open:30 days rolling  \n",
       "Date                              \n",
       "2017-04-13                   NaN  \n",
       "2017-04-17                   NaN  \n",
       "2017-04-18                   NaN  \n",
       "2017-04-19                   NaN  \n",
       "2017-04-20                   NaN  "
      ]
     },
     "execution_count": 60,
     "metadata": {},
     "output_type": "execute_result"
    }
   ],
   "source": [
    "df_tsla.head()"
   ]
  },
  {
   "cell_type": "code",
   "execution_count": 61,
   "id": "22212c9c",
   "metadata": {},
   "outputs": [
    {
     "data": {
      "text/plain": [
       "<AxesSubplot:xlabel='Date'>"
      ]
     },
     "execution_count": 61,
     "metadata": {},
     "output_type": "execute_result"
    },
    {
     "data": {
      "image/png": "[encoded data removed]",
      "text/plain": [
       "<Figure size 864x288 with 1 Axes>"
      ]
     },
     "metadata": {
      "needs_background": "light"
     },
     "output_type": "display_data"
    }
   ],
   "source": [
    "df_tsla[['Open','Open:30 days rolling']].plot(figsize=(12,4))"
   ]
  },
  {
   "cell_type": "code",
   "execution_count": null,
   "id": "4924281e",
   "metadata": {},
   "outputs": [],
   "source": []
  },
  {
   "cell_type": "code",
   "execution_count": null,
   "id": "fcace087",
   "metadata": {},
   "outputs": [],
   "source": []
  },
  {
   "cell_type": "markdown",
   "id": "0deb82c9",
   "metadata": {},
   "source": [
    "## Day 2 - Time series"
   ]
  },
  {
   "cell_type": "code",
   "execution_count": 62,
   "id": "e372569e",
   "metadata": {},
   "outputs": [],
   "source": [
    "import pandas_datareader as pdr\n",
    "import pandas as pd\n",
    "from datetime import datetime"
   ]
  },
  {
   "cell_type": "code",
   "execution_count": 63,
   "id": "a972a297",
   "metadata": {},
   "outputs": [
    {
     "data": {
      "text/html": [
       "<div>\n",
       "<style scoped>\n",
       "    .dataframe tbody tr th:only-of-type {\n",
       "        vertical-align: middle;\n",
       "    }\n",
       "\n",
       "    .dataframe tbody tr th {\n",
       "        vertical-align: top;\n",
       "    }\n",
       "\n",
       "    .dataframe thead th {\n",
       "        text-align: right;\n",
       "    }\n",
       "</style>\n",
       "<table border=\"1\" class=\"dataframe\">\n",
       "  <thead>\n",
       "    <tr style=\"text-align: right;\">\n",
       "      <th></th>\n",
       "      <th>High</th>\n",
       "      <th>Low</th>\n",
       "      <th>Open</th>\n",
       "      <th>Close</th>\n",
       "      <th>Volume</th>\n",
       "      <th>Adj Close</th>\n",
       "    </tr>\n",
       "    <tr>\n",
       "      <th>Date</th>\n",
       "      <th></th>\n",
       "      <th></th>\n",
       "      <th></th>\n",
       "      <th></th>\n",
       "      <th></th>\n",
       "      <th></th>\n",
       "    </tr>\n",
       "  </thead>\n",
       "  <tbody>\n",
       "    <tr>\n",
       "      <th>2017-04-17</th>\n",
       "      <td>60.799999</td>\n",
       "      <td>59.736000</td>\n",
       "      <td>60.540001</td>\n",
       "      <td>60.287998</td>\n",
       "      <td>20693500.0</td>\n",
       "      <td>60.287998</td>\n",
       "    </tr>\n",
       "    <tr>\n",
       "      <th>2017-04-18</th>\n",
       "      <td>60.167999</td>\n",
       "      <td>59.580002</td>\n",
       "      <td>59.939999</td>\n",
       "      <td>60.049999</td>\n",
       "      <td>15178500.0</td>\n",
       "      <td>60.049999</td>\n",
       "    </tr>\n",
       "    <tr>\n",
       "      <th>2017-04-19</th>\n",
       "      <td>61.324001</td>\n",
       "      <td>60.422001</td>\n",
       "      <td>60.492001</td>\n",
       "      <td>61.104000</td>\n",
       "      <td>19490000.0</td>\n",
       "      <td>61.104000</td>\n",
       "    </tr>\n",
       "    <tr>\n",
       "      <th>2017-04-20</th>\n",
       "      <td>61.830002</td>\n",
       "      <td>60.046001</td>\n",
       "      <td>61.301998</td>\n",
       "      <td>60.501999</td>\n",
       "      <td>30747000.0</td>\n",
       "      <td>60.501999</td>\n",
       "    </tr>\n",
       "    <tr>\n",
       "      <th>2017-04-21</th>\n",
       "      <td>61.279999</td>\n",
       "      <td>60.084000</td>\n",
       "      <td>60.400002</td>\n",
       "      <td>61.119999</td>\n",
       "      <td>22549000.0</td>\n",
       "      <td>61.119999</td>\n",
       "    </tr>\n",
       "    <tr>\n",
       "      <th>...</th>\n",
       "      <td>...</td>\n",
       "      <td>...</td>\n",
       "      <td>...</td>\n",
       "      <td>...</td>\n",
       "      <td>...</td>\n",
       "      <td>...</td>\n",
       "    </tr>\n",
       "    <tr>\n",
       "      <th>2022-04-07</th>\n",
       "      <td>1076.589966</td>\n",
       "      <td>1021.539978</td>\n",
       "      <td>1052.390015</td>\n",
       "      <td>1057.260010</td>\n",
       "      <td>26482400.0</td>\n",
       "      <td>1057.260010</td>\n",
       "    </tr>\n",
       "    <tr>\n",
       "      <th>2022-04-08</th>\n",
       "      <td>1048.439941</td>\n",
       "      <td>1022.440002</td>\n",
       "      <td>1043.209961</td>\n",
       "      <td>1025.489990</td>\n",
       "      <td>18293300.0</td>\n",
       "      <td>1025.489990</td>\n",
       "    </tr>\n",
       "    <tr>\n",
       "      <th>2022-04-11</th>\n",
       "      <td>1008.469971</td>\n",
       "      <td>974.640015</td>\n",
       "      <td>980.400024</td>\n",
       "      <td>975.929993</td>\n",
       "      <td>19785700.0</td>\n",
       "      <td>975.929993</td>\n",
       "    </tr>\n",
       "    <tr>\n",
       "      <th>2022-04-12</th>\n",
       "      <td>1021.190002</td>\n",
       "      <td>976.599976</td>\n",
       "      <td>997.640015</td>\n",
       "      <td>986.950012</td>\n",
       "      <td>21948800.0</td>\n",
       "      <td>986.950012</td>\n",
       "    </tr>\n",
       "    <tr>\n",
       "      <th>2022-04-13</th>\n",
       "      <td>1020.499878</td>\n",
       "      <td>973.119080</td>\n",
       "      <td>981.075012</td>\n",
       "      <td>1019.830017</td>\n",
       "      <td>14613487.0</td>\n",
       "      <td>1019.830017</td>\n",
       "    </tr>\n",
       "  </tbody>\n",
       "</table>\n",
       "<p>1259 rows × 6 columns</p>\n",
       "</div>"
      ],
      "text/plain": [
       "                   High          Low         Open        Close      Volume  \\\n",
       "Date                                                                         \n",
       "2017-04-17    60.799999    59.736000    60.540001    60.287998  20693500.0   \n",
       "2017-04-18    60.167999    59.580002    59.939999    60.049999  15178500.0   \n",
       "2017-04-19    61.324001    60.422001    60.492001    61.104000  19490000.0   \n",
       "2017-04-20    61.830002    60.046001    61.301998    60.501999  30747000.0   \n",
       "2017-04-21    61.279999    60.084000    60.400002    61.119999  22549000.0   \n",
       "...                 ...          ...          ...          ...         ...   \n",
       "2022-04-07  1076.589966  1021.539978  1052.390015  1057.260010  26482400.0   \n",
       "2022-04-08  1048.439941  1022.440002  1043.209961  1025.489990  18293300.0   \n",
       "2022-04-11  1008.469971   974.640015   980.400024   975.929993  19785700.0   \n",
       "2022-04-12  1021.190002   976.599976   997.640015   986.950012  21948800.0   \n",
       "2022-04-13  1020.499878   973.119080   981.075012  1019.830017  14613487.0   \n",
       "\n",
       "              Adj Close  \n",
       "Date                     \n",
       "2017-04-17    60.287998  \n",
       "2017-04-18    60.049999  \n",
       "2017-04-19    61.104000  \n",
       "2017-04-20    60.501999  \n",
       "2017-04-21    61.119999  \n",
       "...                 ...  \n",
       "2022-04-07  1057.260010  \n",
       "2022-04-08  1025.489990  \n",
       "2022-04-11   975.929993  \n",
       "2022-04-12   986.950012  \n",
       "2022-04-13  1019.830017  \n",
       "\n",
       "[1259 rows x 6 columns]"
      ]
     },
     "execution_count": 63,
     "metadata": {},
     "output_type": "execute_result"
    }
   ],
   "source": [
    "df_tesla=pdr.get_data_yahoo('TSLA')\n",
    "df_tesla"
   ]
  },
  {
   "cell_type": "code",
   "execution_count": null,
   "id": "ab59945b",
   "metadata": {},
   "outputs": [],
   "source": [
    "## simple moving average   "
   ]
  },
  {
   "cell_type": "code",
   "execution_count": 5,
   "id": "d268750f",
   "metadata": {},
   "outputs": [
    {
     "data": {
      "text/plain": [
       "<AxesSubplot:xlabel='Date'>"
      ]
     },
     "execution_count": 5,
     "metadata": {},
     "output_type": "execute_result"
    },
    {
     "data": {
      "image/png": "[encoded data removed]",
      "text/plain": [
       "<Figure size 1080x432 with 1 Axes>"
      ]
     },
     "metadata": {
      "needs_background": "light"
     },
     "output_type": "display_data"
    }
   ],
   "source": [
    "df_tesla[\"Open\"].plot(figsize=(15,6))"
   ]
  },
  {
   "cell_type": "code",
   "execution_count": 64,
   "id": "0ef3177b",
   "metadata": {},
   "outputs": [],
   "source": [
    "df_tesla[\"Open:10 days rolling\"]=df_tesla[\"Open\"].rolling(window=10,min_periods=1).mean()"
   ]
  },
  {
   "cell_type": "code",
   "execution_count": 65,
   "id": "fa42c7b4",
   "metadata": {},
   "outputs": [
    {
     "data": {
      "text/plain": [
       "<AxesSubplot:xlabel='Date'>"
      ]
     },
     "execution_count": 65,
     "metadata": {},
     "output_type": "execute_result"
    },
    {
     "data": {
      "image/png": "[encoded data removed]",
      "text/plain": [
       "<Figure size 432x288 with 1 Axes>"
      ]
     },
     "metadata": {
      "needs_background": "light"
     },
     "output_type": "display_data"
    }
   ],
   "source": [
    "df_tesla[['Open','Open:10 days rolling']].plot(xlim=['2020-01-01','2021-01-01'])"
   ]
  },
  {
   "cell_type": "code",
   "execution_count": null,
   "id": "0e415170",
   "metadata": {},
   "outputs": [],
   "source": []
  }
 ],
 "metadata": {
  "kernelspec": {
   "display_name": "Python 3 (ipykernel)",
   "language": "python",
   "name": "python3"
  },
  "language_info": {
   "codemirror_mode": {
    "name": "ipython",
    "version": 3
   },
   "file_extension": ".py",
   "mimetype": "text/x-python",
   "name": "python",
   "nbconvert_exporter": "python",
   "pygments_lexer": "ipython3",
   "version": "3.9.7"
  }
 },
 "nbformat": 4,
 "nbformat_minor": 5
}
